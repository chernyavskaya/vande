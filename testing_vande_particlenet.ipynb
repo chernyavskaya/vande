{
 "cells": [
  {
   "cell_type": "code",
   "execution_count": 1,
   "metadata": {},
   "outputs": [
    {
     "name": "stdout",
     "output_type": "stream",
     "text": [
      "setGPU: Setting GPU to: 7\n",
      "tensorflow version:  2.3.0\n"
     ]
    }
   ],
   "source": [
    "import setGPU\n",
    "import os\n",
    "import numpy as np\n",
    "from collections import namedtuple\n",
    "os.environ['TF_CPP_MIN_LOG_LEVEL'] = '2'\n",
    "import tensorflow as tf\n",
    "print('tensorflow version: ', tf.__version__)\n",
    "import sys, os\n",
    "sys.path.append(os.path.abspath(os.path.join('..')))\n",
    "sys.path.append(os.path.abspath(os.path.join('../sarewt_orig/')))\n",
    "sys.path.append(os.path.abspath(os.path.join('../../')))\n",
    "\n",
    "import vae.vae_particle as vap\n",
    "import vae.losses as losses\n",
    "import pofah.util.experiment as expe\n",
    "import pofah.util.sample_factory as safa\n",
    "import util.data_generator as dage\n",
    "import sarewt.data_reader as dare\n",
    "import pofah.phase_space.cut_constants as cuts\n",
    "import training as tra\n",
    "import tensorflow.keras.layers as klayers\n",
    "from importlib import reload\n",
    "import tensorflow.keras.layers as klayers\n"
   ]
  },
  {
   "cell_type": "code",
   "execution_count": 2,
   "metadata": {},
   "outputs": [
    {
     "name": "stdout",
     "output_type": "stream",
     "text": [
      "0.51.2\n"
     ]
    }
   ],
   "source": [
    "import numba\n",
    "print(numba.__version__)"
   ]
  },
  {
   "cell_type": "code",
   "execution_count": 3,
   "metadata": {},
   "outputs": [],
   "source": [
    "# ********************************************************\n",
    "#       runtime params\n",
    "# ********************************************************\n",
    "\n",
    "RunParameters = namedtuple('Parameters', 'run_n  \\\n",
    " epochs train_total_n gen_part_n valid_total_n batch_n learning_rate max_lr_decay lambda_reg')\n",
    "params = RunParameters(run_n=113, \n",
    "                    epochs=2, \n",
    "                    train_total_n=int(1e4), \n",
    "                    valid_total_n=int(1e4), \n",
    "                    gen_part_n=int(5e3), \n",
    "                    batch_n=50, \n",
    "                    learning_rate=0.001,\n",
    "                    max_lr_decay=8, \n",
    "                    lambda_reg=0.0) # 'L1L2'\n",
    "\n",
    "Parameters = namedtuple('Setting', 'name  input_shape  beta activation initializer conv_params conv_params_encoder conv_params_decoder with_bn conv_pooling \\\n",
    "                     conv_linking latent_dim ae_type kl_warmup_time kernel_ini_n')\n",
    "setting = Parameters(\n",
    "    name = 'PN',\n",
    "input_shape=[(100,2),(100,3)],\n",
    "beta=0.1, \n",
    "activation=klayers.LeakyReLU(alpha=0.1),\n",
    "initializer='he_uniform',\n",
    " # conv_params: list of tuple in the format (K, (C1, C2, C3))\n",
    "conv_params = [(15, ([20,20,20])),(15, ([20,20,20]))],\n",
    "conv_params_encoder = [],\n",
    "conv_params_decoder = [10],  #[32,16,8]\n",
    "with_bn = True,\n",
    "conv_pooling = 'average',\n",
    "conv_linking = 'sum' ,#concat or sum\n",
    "latent_dim = 3,\n",
    "ae_type = 'vae',  #ae or vae \n",
    "kl_warmup_time = 10,\n",
    "kernel_ini_n = 0)\n",
    "\n"
   ]
  },
  {
   "cell_type": "code",
   "execution_count": 6,
   "metadata": {},
   "outputs": [],
   "source": [
    "#Parameters = namedtuple(\"Parameters\", Parameters._fields + Settings._fields)\n",
    "#new_params = Parameters(*(params + setting))"
   ]
  },
  {
   "cell_type": "code",
   "execution_count": 8,
   "metadata": {},
   "outputs": [],
   "source": [
    "#import json\n",
    "#j = json.dumps((new_params._replace(activation='activation'))._asdict())"
   ]
  },
  {
   "cell_type": "code",
   "execution_count": null,
   "metadata": {},
   "outputs": [],
   "source": []
  },
  {
   "cell_type": "code",
   "execution_count": null,
   "metadata": {},
   "outputs": [],
   "source": []
  },
  {
   "cell_type": "code",
   "execution_count": 4,
   "metadata": {},
   "outputs": [
    {
     "name": "stdout",
     "output_type": "stream",
     "text": [
      "Model: \"encoder\"\n",
      "__________________________________________________________________________________________________\n",
      "Layer (type)                    Output Shape         Param #     Connected to                     \n",
      "==================================================================================================\n",
      "points (InputLayer)             [(None, 100, 2)]     0                                            \n",
      "__________________________________________________________________________________________________\n",
      "tf.compat.v1.transpose (TFOpLam (None, 2, 100)       0           points[0][0]                     \n",
      "__________________________________________________________________________________________________\n",
      "tf.math.multiply (TFOpLambda)   (None, 100, 2)       0           points[0][0]                     \n",
      "                                                                 points[0][0]                     \n",
      "__________________________________________________________________________________________________\n",
      "tf.linalg.matmul (TFOpLambda)   (None, 100, 100)     0           points[0][0]                     \n",
      "                                                                 tf.compat.v1.transpose[0][0]     \n",
      "__________________________________________________________________________________________________\n",
      "tf.math.multiply_1 (TFOpLambda) (None, 100, 2)       0           points[0][0]                     \n",
      "                                                                 points[0][0]                     \n",
      "__________________________________________________________________________________________________\n",
      "tf.math.reduce_sum (TFOpLambda) (None, 100, 1)       0           tf.math.multiply[0][0]           \n",
      "__________________________________________________________________________________________________\n",
      "tf.math.multiply_2 (TFOpLambda) (None, 100, 100)     0           tf.linalg.matmul[0][0]           \n",
      "__________________________________________________________________________________________________\n",
      "tf.math.reduce_sum_1 (TFOpLambd (None, 100, 1)       0           tf.math.multiply_1[0][0]         \n",
      "__________________________________________________________________________________________________\n",
      "features (InputLayer)           [(None, 100, 3)]     0                                            \n",
      "__________________________________________________________________________________________________\n",
      "tf.math.subtract (TFOpLambda)   (None, 100, 100)     0           tf.math.reduce_sum[0][0]         \n",
      "                                                                 tf.math.multiply_2[0][0]         \n",
      "__________________________________________________________________________________________________\n",
      "tf.compat.v1.transpose_1 (TFOpL (None, 1, 100)       0           tf.math.reduce_sum_1[0][0]       \n",
      "__________________________________________________________________________________________________\n",
      "tf.compat.v1.shape (TFOpLambda) (3,)                 0           features[0][0]                   \n",
      "__________________________________________________________________________________________________\n",
      "tf.__operators__.add (TFOpLambd (None, 100, 100)     0           tf.math.subtract[0][0]           \n",
      "                                                                 tf.compat.v1.transpose_1[0][0]   \n",
      "__________________________________________________________________________________________________\n",
      "tf.__operators__.getitem_1 (Sli ()                   0           tf.compat.v1.shape[0][0]         \n",
      "__________________________________________________________________________________________________\n",
      "tf.math.negative (TFOpLambda)   (None, 100, 100)     0           tf.__operators__.add[0][0]       \n",
      "__________________________________________________________________________________________________\n",
      "tf.range (TFOpLambda)           (None,)              0           tf.__operators__.getitem_1[0][0] \n",
      "__________________________________________________________________________________________________\n",
      "tf.math.top_k (TFOpLambda)      TopKV2(values=(None, 0           tf.math.negative[0][0]           \n",
      "__________________________________________________________________________________________________\n",
      "tf.reshape (TFOpLambda)         (None, 1, 1, 1)      0           tf.range[0][0]                   \n",
      "__________________________________________________________________________________________________\n",
      "tf.__operators__.getitem (Slici (None, 100, 15)      0           tf.math.top_k[0][1]              \n",
      "__________________________________________________________________________________________________\n",
      "tf.tile (TFOpLambda)            (None, 100, 15, 1)   0           tf.reshape[0][0]                 \n",
      "__________________________________________________________________________________________________\n",
      "tf.expand_dims_1 (TFOpLambda)   (None, 100, 15, 1)   0           tf.__operators__.getitem[0][0]   \n",
      "__________________________________________________________________________________________________\n",
      "tf.concat (TFOpLambda)          (None, 100, 15, 2)   0           tf.tile[0][0]                    \n",
      "                                                                 tf.expand_dims_1[0][0]           \n",
      "__________________________________________________________________________________________________\n",
      "tf.expand_dims_2 (TFOpLambda)   (None, 100, 1, 3)    0           features[0][0]                   \n",
      "__________________________________________________________________________________________________\n",
      "tf.compat.v1.gather_nd (TFOpLam (None, 100, 15, 3)   0           features[0][0]                   \n",
      "                                                                 tf.concat[0][0]                  \n",
      "__________________________________________________________________________________________________\n",
      "tf.tile_1 (TFOpLambda)          (None, 100, 15, 3)   0           tf.expand_dims_2[0][0]           \n",
      "__________________________________________________________________________________________________\n",
      "tf.math.subtract_1 (TFOpLambda) (None, 100, 15, 3)   0           tf.compat.v1.gather_nd[0][0]     \n",
      "                                                                 tf.tile_1[0][0]                  \n",
      "__________________________________________________________________________________________________\n",
      "PN_0_conv0 (Conv2D)             (None, 100, 15, 20)  60          tf.math.subtract_1[0][0]         \n",
      "__________________________________________________________________________________________________\n",
      "PN_0_bn0 (BatchNormalization)   (None, 100, 15, 20)  80          PN_0_conv0[0][0]                 \n",
      "__________________________________________________________________________________________________\n",
      "PN_0_act0 (Activation)          (None, 100, 15, 20)  0           PN_0_bn0[0][0]                   \n",
      "__________________________________________________________________________________________________\n",
      "PN_0_conv1 (Conv2D)             (None, 100, 15, 20)  400         PN_0_act0[0][0]                  \n",
      "__________________________________________________________________________________________________\n",
      "PN_0_bn1 (BatchNormalization)   (None, 100, 15, 20)  80          PN_0_conv1[0][0]                 \n",
      "__________________________________________________________________________________________________\n",
      "PN_0_act1 (Activation)          (None, 100, 15, 20)  0           PN_0_bn1[0][0]                   \n",
      "__________________________________________________________________________________________________\n",
      "PN_0_conv2 (Conv2D)             (None, 100, 15, 20)  400         PN_0_act1[0][0]                  \n",
      "__________________________________________________________________________________________________\n",
      "tf.compat.v1.transpose_2 (TFOpL (None, 2, 100)       0           points[0][0]                     \n",
      "__________________________________________________________________________________________________\n",
      "PN_0_bn2 (BatchNormalization)   (None, 100, 15, 20)  80          PN_0_conv2[0][0]                 \n",
      "__________________________________________________________________________________________________\n",
      "tf.math.multiply_3 (TFOpLambda) (None, 100, 2)       0           points[0][0]                     \n",
      "                                                                 points[0][0]                     \n",
      "__________________________________________________________________________________________________\n",
      "tf.linalg.matmul_1 (TFOpLambda) (None, 100, 100)     0           points[0][0]                     \n",
      "                                                                 tf.compat.v1.transpose_2[0][0]   \n",
      "__________________________________________________________________________________________________\n",
      "tf.math.multiply_4 (TFOpLambda) (None, 100, 2)       0           points[0][0]                     \n",
      "                                                                 points[0][0]                     \n",
      "__________________________________________________________________________________________________\n",
      "PN_0_act2 (Activation)          (None, 100, 15, 20)  0           PN_0_bn2[0][0]                   \n",
      "__________________________________________________________________________________________________\n",
      "tf.math.reduce_sum_2 (TFOpLambd (None, 100, 1)       0           tf.math.multiply_3[0][0]         \n",
      "__________________________________________________________________________________________________\n",
      "tf.math.multiply_5 (TFOpLambda) (None, 100, 100)     0           tf.linalg.matmul_1[0][0]         \n",
      "__________________________________________________________________________________________________\n",
      "tf.math.reduce_sum_3 (TFOpLambd (None, 100, 1)       0           tf.math.multiply_4[0][0]         \n",
      "__________________________________________________________________________________________________\n",
      "tf.math.reduce_mean (TFOpLambda (None, 100, 20)      0           PN_0_act2[0][0]                  \n",
      "__________________________________________________________________________________________________\n",
      "tf.math.subtract_2 (TFOpLambda) (None, 100, 100)     0           tf.math.reduce_sum_2[0][0]       \n",
      "                                                                 tf.math.multiply_5[0][0]         \n",
      "__________________________________________________________________________________________________\n",
      "tf.compat.v1.transpose_3 (TFOpL (None, 1, 100)       0           tf.math.reduce_sum_3[0][0]       \n",
      "__________________________________________________________________________________________________\n",
      "tf.compat.v1.shape_1 (TFOpLambd (3,)                 0           tf.math.reduce_mean[0][0]        \n",
      "__________________________________________________________________________________________________\n",
      "tf.__operators__.add_1 (TFOpLam (None, 100, 100)     0           tf.math.subtract_2[0][0]         \n",
      "                                                                 tf.compat.v1.transpose_3[0][0]   \n",
      "__________________________________________________________________________________________________\n",
      "tf.__operators__.getitem_3 (Sli ()                   0           tf.compat.v1.shape_1[0][0]       \n",
      "__________________________________________________________________________________________________\n",
      "tf.math.negative_1 (TFOpLambda) (None, 100, 100)     0           tf.__operators__.add_1[0][0]     \n",
      "__________________________________________________________________________________________________\n",
      "tf.range_1 (TFOpLambda)         (None,)              0           tf.__operators__.getitem_3[0][0] \n",
      "__________________________________________________________________________________________________\n",
      "tf.math.top_k_1 (TFOpLambda)    TopKV2(values=(None, 0           tf.math.negative_1[0][0]         \n",
      "__________________________________________________________________________________________________\n",
      "tf.reshape_1 (TFOpLambda)       (None, 1, 1, 1)      0           tf.range_1[0][0]                 \n",
      "__________________________________________________________________________________________________\n",
      "tf.__operators__.getitem_2 (Sli (None, 100, 15)      0           tf.math.top_k_1[0][1]            \n",
      "__________________________________________________________________________________________________\n",
      "tf.tile_2 (TFOpLambda)          (None, 100, 15, 1)   0           tf.reshape_1[0][0]               \n",
      "__________________________________________________________________________________________________\n",
      "tf.expand_dims_4 (TFOpLambda)   (None, 100, 15, 1)   0           tf.__operators__.getitem_2[0][0] \n",
      "__________________________________________________________________________________________________\n",
      "tf.concat_1 (TFOpLambda)        (None, 100, 15, 2)   0           tf.tile_2[0][0]                  \n",
      "                                                                 tf.expand_dims_4[0][0]           \n",
      "__________________________________________________________________________________________________\n",
      "tf.expand_dims_5 (TFOpLambda)   (None, 100, 1, 20)   0           tf.math.reduce_mean[0][0]        \n",
      "__________________________________________________________________________________________________\n",
      "tf.compat.v1.gather_nd_1 (TFOpL (None, 100, 15, 20)  0           tf.math.reduce_mean[0][0]        \n",
      "                                                                 tf.concat_1[0][0]                \n",
      "__________________________________________________________________________________________________\n",
      "tf.tile_3 (TFOpLambda)          (None, 100, 15, 20)  0           tf.expand_dims_5[0][0]           \n",
      "__________________________________________________________________________________________________\n",
      "tf.math.subtract_3 (TFOpLambda) (None, 100, 15, 20)  0           tf.compat.v1.gather_nd_1[0][0]   \n",
      "                                                                 tf.tile_3[0][0]                  \n",
      "__________________________________________________________________________________________________\n",
      "PN_1_conv0 (Conv2D)             (None, 100, 15, 20)  400         tf.math.subtract_3[0][0]         \n",
      "__________________________________________________________________________________________________\n",
      "PN_1_bn0 (BatchNormalization)   (None, 100, 15, 20)  80          PN_1_conv0[0][0]                 \n",
      "__________________________________________________________________________________________________\n",
      "PN_1_act0 (Activation)          (None, 100, 15, 20)  0           PN_1_bn0[0][0]                   \n",
      "__________________________________________________________________________________________________\n",
      "PN_1_conv1 (Conv2D)             (None, 100, 15, 20)  400         PN_1_act0[0][0]                  \n",
      "__________________________________________________________________________________________________\n",
      "PN_1_bn1 (BatchNormalization)   (None, 100, 15, 20)  80          PN_1_conv1[0][0]                 \n",
      "__________________________________________________________________________________________________\n",
      "PN_1_act1 (Activation)          (None, 100, 15, 20)  0           PN_1_bn1[0][0]                   \n",
      "__________________________________________________________________________________________________\n",
      "PN_1_conv2 (Conv2D)             (None, 100, 15, 20)  400         PN_1_act1[0][0]                  \n",
      "__________________________________________________________________________________________________\n",
      "PN_1_bn2 (BatchNormalization)   (None, 100, 15, 20)  80          PN_1_conv2[0][0]                 \n",
      "__________________________________________________________________________________________________\n",
      "PN_1_act2 (Activation)          (None, 100, 15, 20)  0           PN_1_bn2[0][0]                   \n",
      "__________________________________________________________________________________________________\n",
      "tf.math.reduce_mean_1 (TFOpLamb (None, 100, 20)      0           PN_1_act2[0][0]                  \n",
      "__________________________________________________________________________________________________\n",
      "tf.math.reduce_mean_2 (TFOpLamb (None, 20)           0           tf.math.reduce_mean_1[0][0]      \n",
      "__________________________________________________________________________________________________\n",
      "z_mean (Dense)                  (None, 3)            63          tf.math.reduce_mean_2[0][0]      \n",
      "__________________________________________________________________________________________________\n",
      "z_log_var (Dense)               (None, 3)            63          tf.math.reduce_mean_2[0][0]      \n",
      "__________________________________________________________________________________________________\n",
      "sampling (Sampling)             (None, 3)            0           z_mean[0][0]                     \n",
      "                                                                 z_log_var[0][0]                  \n",
      "==================================================================================================\n",
      "Total params: 2,666\n",
      "Trainable params: 2,426\n",
      "Non-trainable params: 240\n",
      "__________________________________________________________________________________________________\n",
      "Model: \"decoder\"\n",
      "_________________________________________________________________\n",
      "Layer (type)                 Output Shape              Param #   \n",
      "=================================================================\n",
      "decoder_input (InputLayer)   [(None, 3)]               0         \n",
      "_________________________________________________________________\n",
      "dense (Dense)                (None, 1000)              4000      \n",
      "_________________________________________________________________\n",
      "PN_dense_0 (BatchNormalizati (None, 1000)              4000      \n",
      "_________________________________________________________________\n",
      "PN_act_0 (Activation)        (None, 1000)              0         \n",
      "_________________________________________________________________\n",
      "reshape (Reshape)            (None, 100, 10)           0         \n",
      "_________________________________________________________________\n",
      "tf.expand_dims_7 (TFOpLambda (None, 100, 1, 10)        0         \n",
      "_________________________________________________________________\n",
      "PN_conv_out (Conv2D)         (None, 100, 1, 3)         33        \n",
      "_________________________________________________________________\n",
      "tf.compat.v1.squeeze_3 (TFOp (None, 100, 3)            0         \n",
      "=================================================================\n",
      "Total params: 8,033\n",
      "Trainable params: 6,033\n",
      "Non-trainable params: 2,000\n",
      "_________________________________________________________________\n"
     ]
    },
    {
     "name": "stdout",
     "output_type": "stream",
     "text": [
      "Model: \"vae\"\n",
      "__________________________________________________________________________________________________\n",
      "Layer (type)                    Output Shape         Param #     Connected to                     \n",
      "==================================================================================================\n",
      "model_input_0 (InputLayer)      [(None, 100, 2)]     0                                            \n",
      "__________________________________________________________________________________________________\n",
      "model_input_1 (InputLayer)      [(None, 100, 3)]     0                                            \n",
      "__________________________________________________________________________________________________\n",
      "encoder (Functional)            [(None, 3), (None, 3 2666        model_input_0[0][0]              \n",
      "                                                                 model_input_1[0][0]              \n",
      "__________________________________________________________________________________________________\n",
      "decoder (Functional)            (None, 100, 3)       8033        encoder[0][0]                    \n",
      "==================================================================================================\n",
      "Total params: 10,699\n",
      "Trainable params: 8,459\n",
      "Non-trainable params: 2,240\n",
      "__________________________________________________________________________________________________\n"
     ]
    },
    {
     "data": {
      "text/plain": [
       "<tensorflow.python.keras.engine.functional.Functional at 0x7f396823f5b0>"
      ]
     },
     "execution_count": 4,
     "metadata": {},
     "output_type": "execute_result"
    }
   ],
   "source": [
    "import vae.vae_base as vae_base\n",
    "reload(vae_base)\n",
    "import vae.vae_particlenet as vae_pn\n",
    "reload(vae_pn)\n",
    "\n",
    "vae = vae_pn.VAE_ParticleNet(name=setting.name,conv_params=setting.conv_params, conv_params_encoder=setting.conv_params_encoder,\n",
    "                                            conv_params_decoder=setting.conv_params_decoder, with_bn=setting.conv_params_decoder, \n",
    "                                            conv_pooling=setting.conv_pooling,conv_linking=setting.conv_linking,\n",
    "                                            input_shape=setting.input_shape,latent_dim=setting.latent_dim,ae_type=setting.ae_type,\n",
    "                                            kl_warmup_time=setting.kl_warmup_time,activation=setting.activation )\n",
    "vae.build()\n",
    "#\n"
   ]
  },
  {
   "cell_type": "code",
   "execution_count": 5,
   "metadata": {},
   "outputs": [],
   "source": [
    "# *******************************************************\n",
    "#                       training options\n",
    "# *******************************************************\n",
    "\n",
    "optimizer = tf.keras.optimizers.Adam(learning_rate=params.learning_rate)\n",
    "loss_fn = losses.threeD_loss"
   ]
  },
  {
   "cell_type": "code",
   "execution_count": null,
   "metadata": {},
   "outputs": [],
   "source": []
  },
  {
   "cell_type": "code",
   "execution_count": null,
   "metadata": {},
   "outputs": [],
   "source": []
  },
  {
   "cell_type": "code",
   "execution_count": 6,
   "metadata": {},
   "outputs": [],
   "source": [
    "import h5py\n",
    "\n",
    "import ADgvae.utils.preprocessing as prepr\n",
    "reload(prepr)\n",
    "\n",
    "DATA_PATH = '/eos/user/n/nchernya/MLHEP/AnomalyDetection/ADgvae/input/'\n",
    "#filename_bg = DATA_PATH + 'QCD_training_data_02_08_2021.h5'\n",
    "filename_bg = DATA_PATH + 'QCD_training_data_100const_03_08_2021.h5'\n",
    "inFile = h5py.File(filename_bg, 'r')\n",
    "particles_bg = inFile['particle_bg'][0:int(5*10e4)]\n",
    "particles_bg_valid = inFile['particle_bg_valid'][0:int(1*10e4)]\n",
    "particles_bg_test = inFile['particle_bg_test'][0:int(1*10e4)]\n",
    "nodes_n = particles_bg.shape[1]\n",
    "feat_sz = particles_bg.shape[2]"
   ]
  },
  {
   "cell_type": "code",
   "execution_count": null,
   "metadata": {},
   "outputs": [],
   "source": []
  },
  {
   "cell_type": "code",
   "execution_count": 132,
   "metadata": {},
   "outputs": [],
   "source": [
    "train_ds = tf.data.Dataset.from_tensor_slices((particles_bg[:10000,:,0:2],particles_bg[:10000,:,:]))\n",
    "\n",
    "batched_dataset = train_ds.batch(256)\n",
    "#for step, x_batch_train in enumerate(batched_dataset):\n",
    "#    print(x_batch_train)\n",
    "#    break"
   ]
  },
  {
   "cell_type": "code",
   "execution_count": 5,
   "metadata": {},
   "outputs": [
    {
     "name": "stdout",
     "output_type": "stream",
     "text": [
      ">>> Preparing training dataset generator\n"
     ]
    },
    {
     "data": {
      "text/plain": [
       "<module 'util.data_generator_particlenet' from '/eos/home-n/nchernya/MLHEP/AnomalyDetection/vande/util/data_generator_particlenet.py'>"
      ]
     },
     "execution_count": 5,
     "metadata": {},
     "output_type": "execute_result"
    }
   ],
   "source": [
    "import pofah.path_constants.sample_dict_file_parts_input_vae as sdi\n",
    "reload(sdi)\n",
    "\n",
    "reload(expe)\n",
    "experiment = expe.Experiment(params.run_n).setup(model_dir=True, fig_dir=True)\n",
    "paths = safa.SamplePathDirFactory(sdi.path_dict)\n",
    "\n",
    "# train (generator)\n",
    "print('>>> Preparing training dataset generator')\n",
    "\n",
    "reload(expe)\n",
    "reload(safa)\n",
    "\n",
    "import util.data_generator_particlenet as dage_pn\n",
    "reload(dage_pn)\n",
    "\n"
   ]
  },
  {
   "cell_type": "code",
   "execution_count": null,
   "metadata": {},
   "outputs": [],
   "source": []
  },
  {
   "cell_type": "code",
   "execution_count": 8,
   "metadata": {},
   "outputs": [],
   "source": [
    "\n",
    "#path = '/eos/user/n/nchernya/MLHEP/AnomalyDetection/autoencoder_for_anomaly/graph_based/test_0.h5'\n",
    "#data_train_generator_new = dage_pn.DataGeneratorDirectPrepr(path=path,sample_max_n=params.train_total_n, \n",
    " #                                         batch_size = 256)\n",
    "\n",
    "\n",
    "\n",
    "data_train_generator_new = dage_pn.DataGeneratorDirect(path=paths.sample_dir_path('qcdSide'), \n",
    "                                          sample_part_n=params.gen_part_n, \n",
    "                                          sample_max_n=params.train_total_n, \n",
    "                                          batch_size = 256,\n",
    "                                          **cuts.global_cuts) # generate 10 M jet samples\n",
    "\n",
    "ds = tf.data.Dataset.from_generator(\n",
    "        data_train_generator_new, \n",
    "        (tf.float32,tf.float32), \n",
    "        (tf.TensorShape([None,100,2]), tf.TensorShape([None,100,3])))\n",
    "        #([None,100,2],[None,100,3]))\n",
    "\n",
    "\n",
    "ds = ds.prefetch(buffer_size=tf.data.experimental.AUTOTUNE)"
   ]
  },
  {
   "cell_type": "code",
   "execution_count": 19,
   "metadata": {},
   "outputs": [
    {
     "name": "stdout",
     "output_type": "stream",
     "text": [
      "path =  /eos/project/d/dshep/TOPCLASS/DijetAnomaly/VAE_data/events/qcd_sqrtshatTeV_13TeV_PU40_NEW_sideband_parts\n",
      "Samples read\n",
      "(256, 100, 2) (256, 100, 3)\n",
      "(256, 100, 2) (256, 100, 3)\n",
      "(256, 100, 2) (256, 100, 3)\n",
      "[DataGenerator]: __call__() yielded 1280 samples\n",
      "(256, 100, 2) (256, 100, 3)\n",
      "Runtime of the program is 31.55609440803528\n"
     ]
    }
   ],
   "source": [
    "import time\n",
    "# starting time\n",
    "start = time.time()\n",
    "i=0\n",
    "for sample in ds:\n",
    "    print(sample[0].shape,sample[1].shape)\n",
    "    i+=1\n",
    "    #print(sample[0],sample[1])\n",
    "    if (i==100) : break\n",
    "# end time\n",
    "end = time.time()\n",
    "\n",
    "# total time taken\n",
    "print(f\"Runtime of the program is {end - start}\")\n"
   ]
  },
  {
   "cell_type": "code",
   "execution_count": 1,
   "metadata": {},
   "outputs": [],
   "source": [
    "import time\n"
   ]
  },
  {
   "cell_type": "code",
   "execution_count": 26,
   "metadata": {},
   "outputs": [],
   "source": [
    "\n",
    "data_train_generator_new = dage_pn.DataGeneratorPerFile(path=paths.sample_dir_path('qcdSide'), \n",
    "                                          sample_max_n=params.train_total_n, \n",
    "                                          batch_size = 256,\n",
    "                                          **cuts.global_cuts) # generate 10 M jet samples\n",
    "\n",
    "ds = tf.data.Dataset.from_generator(\n",
    "        data_train_generator_new, \n",
    "        (tf.float32,tf.float32), \n",
    "        (tf.TensorShape([None,100,2]), tf.TensorShape([None,100,3])))\n",
    "\n",
    "\n",
    "ds = ds.prefetch(buffer_size=tf.data.experimental.AUTOTUNE)"
   ]
  },
  {
   "cell_type": "code",
   "execution_count": 91,
   "metadata": {},
   "outputs": [],
   "source": [
    "import h5py\n",
    "import tensorflow as tf\n",
    "\n",
    "class generator:\n",
    "    def __init__(self):\n",
    "        self.samples_read_n = 0\n",
    "        \n",
    "    def __call__(self, file,sample_max_n):\n",
    "       # samples_read_n = 0\n",
    "        with h5py.File(file, 'r')as inFile:\n",
    "            samples = inFile['particle_bg']\n",
    "\n",
    "            batch_size = 5000\n",
    "            nb = samples.shape[0] // batch_size\n",
    "            last_batch = samples.shape[0] % batch_size\n",
    "\n",
    "            for ib in range(nb):\n",
    "                print(ib)\n",
    "                if sample_max_n is not None and (self.samples_read_n >= sample_max_n):\n",
    "                    print(file,ib,self.samples_read_n)\n",
    "                    self.samples_read_n = 0\n",
    "                    break\n",
    "                else :\n",
    "                    yield samples[ib*batch_size:(ib+1)*batch_size,:,0:2], samples[ib*batch_size:(ib+1)*batch_size,:,:]\n",
    "                self.samples_read_n += batch_size\n",
    "\n",
    "           # if last_batch > 0:\n",
    "           #     yield samples[-last_batch:,:,0:2], samples[-last_batch:,:,:]\n",
    "                \n",
    "                \n",
    "                \n",
    "path = '/eos/user/n/nchernya/MLHEP/AnomalyDetection/autoencoder_for_anomaly/graph_based/'\n",
    "filenames = [path+'test_0.h5',path+'test_1.h5'] #multiple files working, but in this case function \n",
    "#is called a new on each file, meaning that params.train_total_n is not global but applied to each file\n",
    "#filenames = [path+'test_0.h5'] #multiple files working, but in this case function \n",
    "ds = tf.data.Dataset.from_tensor_slices(filenames) \n",
    "ds = ds.interleave(lambda filename: tf.data.Dataset.from_generator(\n",
    "        generator(), \n",
    "        (tf.float32,tf.float32), \n",
    "        (tf.TensorShape([None,100,2]), tf.TensorShape([None,100,3])),\n",
    "        args=(filename,params.train_total_n,)))\n",
    "batched_dataset = ds.prefetch(buffer_size=tf.data.experimental.AUTOTUNE)\n",
    "\n",
    "\n",
    "valid_ds = tf.data.Dataset.from_tensor_slices(filenames) \n",
    "valid_ds = valid_ds.interleave(lambda filename: tf.data.Dataset.from_generator(\n",
    "        generator(), \n",
    "        (tf.float32,tf.float32), \n",
    "        (tf.TensorShape([None,100,2]), tf.TensorShape([None,100,3])),\n",
    "        args=(filename,params.train_total_n,)))\n",
    "batched_dataset_valid = valid_ds.prefetch(buffer_size=tf.data.experimental.AUTOTUNE)"
   ]
  },
  {
   "cell_type": "code",
   "execution_count": 139,
   "metadata": {},
   "outputs": [
    {
     "data": {
      "text/plain": [
       "3"
      ]
     },
     "execution_count": 139,
     "metadata": {},
     "output_type": "execute_result"
    }
   ],
   "source": [
    "len(([1,2,3]))"
   ]
  },
  {
   "cell_type": "code",
   "execution_count": null,
   "metadata": {},
   "outputs": [],
   "source": []
  },
  {
   "cell_type": "code",
   "execution_count": 15,
   "metadata": {},
   "outputs": [
    {
     "name": "stdout",
     "output_type": "stream",
     "text": [
      "\n",
      "### [11.8 13:19:5] Start of epoch 0\n",
      "path =  /eos/project/d/dshep/TOPCLASS/DijetAnomaly/VAE_data/events/qcd_sqrtshatTeV_13TeV_PU40_NEW_sideband_parts\n",
      "Samples read\n"
     ]
    },
    {
     "ename": "UnknownError",
     "evalue": "TypingError: Failed in nopython mode pipeline (step: nopython frontend)\nFailed in nopython mode pipeline (step: nopython frontend)\nNo implementation of function Function(<function vstack at 0x7f9144120ca0>) found for signature:\n \n >>> vstack(list(array(float32, 3d, C))<iv=None>)\n \nThere are 2 candidate implementations:\n  - Of which 2 did not match due to:\n  Overload in function 'vstack': File: numba/core/typing/npydecl.py: Line 833.\n    With argument(s): '(list(array(float32, 3d, C))<iv=None>)':\n   Rejected as the implementation raised a specific error:\n     TypeError: np.vstack(): expecting a non-empty tuple of arrays, got list(array(float32, 3d, C))<iv=None>\n  raised from /cvmfs/sft-nightlies.cern.ch/lcg/views/dev3cuda/Tue/x86_64-centos7-gcc8-opt/lib/python3.8/site-packages/numba/core/typing/npydecl.py:765\n\nDuring: resolving callee type: Function(<function vstack at 0x7f9144120ca0>)\nDuring: typing of call at /eos/home-n/nchernya/MLHEP/AnomalyDetection/vande/util/data_generator_particlenet.py (51)\n\n\nFile \"util/data_generator_particlenet.py\", line 51:\ndef constituents_to_input_samples(constituents, mask_j1, mask_j2): # -> np.ndarray\n    <source elided>\n        const_j2 = constituents[:,1,:,:][mask_j2]\n        samples = np.vstack([const_j1, const_j2])\n        ^\n\nDuring: resolving callee type: type(CPUDispatcher(<function constituents_to_input_samples at 0x7f8fc4500940>))\nDuring: typing of call at /eos/home-n/nchernya/MLHEP/AnomalyDetection/vande/util/data_generator_particlenet.py (59)\n\nDuring: resolving callee type: type(CPUDispatcher(<function constituents_to_input_samples at 0x7f8fc4500940>))\nDuring: typing of call at /eos/home-n/nchernya/MLHEP/AnomalyDetection/vande/util/data_generator_particlenet.py (59)\n\n\nFile \"util/data_generator_particlenet.py\", line 59:\ndef events_to_input_samples(constituents, features):\n    <source elided>\n    mask_j1, mask_j2 = mask_training_cuts(constituents, features)\n    return constituents_to_input_samples(constituents, mask_j1, mask_j2)\n    ^\n\nTraceback (most recent call last):\n\n  File \"/cvmfs/sft-nightlies.cern.ch/lcg/views/dev3cuda/Tue/x86_64-centos7-gcc8-opt/lib/python3.8/site-packages/tensorflow/python/ops/script_ops.py\", line 249, in __call__\n    ret = func(*args)\n\n  File \"/cvmfs/sft-nightlies.cern.ch/lcg/views/dev3cuda/Tue/x86_64-centos7-gcc8-opt/lib/python3.8/site-packages/tensorflow/python/autograph/impl/api.py\", line 645, in wrapper\n    return func(*args, **kwargs)\n\n  File \"/cvmfs/sft-nightlies.cern.ch/lcg/views/dev3cuda/Tue/x86_64-centos7-gcc8-opt/lib/python3.8/site-packages/tensorflow/python/data/ops/dataset_ops.py\", line 961, in generator_py_func\n    values = next(generator_state.get_iterator(iterator_id))\n\n  File \"/eos/home-n/nchernya/MLHEP/AnomalyDetection/vande/util/data_generator_particlenet.py\", line 144, in __call__\n    samples = events_to_input_samples(constituents, features)\n\n  File \"/cvmfs/sft-nightlies.cern.ch/lcg/views/dev3cuda/Tue/x86_64-centos7-gcc8-opt/lib/python3.8/site-packages/numba/core/dispatcher.py\", line 415, in _compile_for_args\n    error_rewrite(e, 'typing')\n\n  File \"/cvmfs/sft-nightlies.cern.ch/lcg/views/dev3cuda/Tue/x86_64-centos7-gcc8-opt/lib/python3.8/site-packages/numba/core/dispatcher.py\", line 358, in error_rewrite\n    reraise(type(e), e, None)\n\n  File \"/cvmfs/sft-nightlies.cern.ch/lcg/views/dev3cuda/Tue/x86_64-centos7-gcc8-opt/lib/python3.8/site-packages/numba/core/utils.py\", line 80, in reraise\n    raise value.with_traceback(tb)\n\nnumba.core.errors.TypingError: Failed in nopython mode pipeline (step: nopython frontend)\nFailed in nopython mode pipeline (step: nopython frontend)\nNo implementation of function Function(<function vstack at 0x7f9144120ca0>) found for signature:\n \n >>> vstack(list(array(float32, 3d, C))<iv=None>)\n \nThere are 2 candidate implementations:\n  - Of which 2 did not match due to:\n  Overload in function 'vstack': File: numba/core/typing/npydecl.py: Line 833.\n    With argument(s): '(list(array(float32, 3d, C))<iv=None>)':\n   Rejected as the implementation raised a specific error:\n     TypeError: np.vstack(): expecting a non-empty tuple of arrays, got list(array(float32, 3d, C))<iv=None>\n  raised from /cvmfs/sft-nightlies.cern.ch/lcg/views/dev3cuda/Tue/x86_64-centos7-gcc8-opt/lib/python3.8/site-packages/numba/core/typing/npydecl.py:765\n\nDuring: resolving callee type: Function(<function vstack at 0x7f9144120ca0>)\nDuring: typing of call at /eos/home-n/nchernya/MLHEP/AnomalyDetection/vande/util/data_generator_particlenet.py (51)\n\n\nFile \"util/data_generator_particlenet.py\", line 51:\ndef constituents_to_input_samples(constituents, mask_j1, mask_j2): # -> np.ndarray\n    <source elided>\n        const_j2 = constituents[:,1,:,:][mask_j2]\n        samples = np.vstack([const_j1, const_j2])\n        ^\n\nDuring: resolving callee type: type(CPUDispatcher(<function constituents_to_input_samples at 0x7f8fc4500940>))\nDuring: typing of call at /eos/home-n/nchernya/MLHEP/AnomalyDetection/vande/util/data_generator_particlenet.py (59)\n\nDuring: resolving callee type: type(CPUDispatcher(<function constituents_to_input_samples at 0x7f8fc4500940>))\nDuring: typing of call at /eos/home-n/nchernya/MLHEP/AnomalyDetection/vande/util/data_generator_particlenet.py (59)\n\n\nFile \"util/data_generator_particlenet.py\", line 59:\ndef events_to_input_samples(constituents, features):\n    <source elided>\n    mask_j1, mask_j2 = mask_training_cuts(constituents, features)\n    return constituents_to_input_samples(constituents, mask_j1, mask_j2)\n    ^\n\n\n\n\t [[{{node PyFunc}}]] [Op:IteratorGetNext]",
     "output_type": "error",
     "traceback": [
      "\u001b[0;31m---------------------------------------------------------------------------\u001b[0m",
      "\u001b[0;31mUnknownError\u001b[0m                              Traceback (most recent call last)",
      "\u001b[0;32m/tmp/ipykernel_21335/2630042398.py\u001b[0m in \u001b[0;36m<module>\u001b[0;34m\u001b[0m\n\u001b[1;32m      8\u001b[0m \u001b[0mtrainer\u001b[0m \u001b[0;34m=\u001b[0m \u001b[0mtra\u001b[0m\u001b[0;34m.\u001b[0m\u001b[0mTrainerParticleNet\u001b[0m\u001b[0;34m(\u001b[0m\u001b[0moptimizer\u001b[0m\u001b[0;34m=\u001b[0m\u001b[0moptimizer\u001b[0m\u001b[0;34m,\u001b[0m \u001b[0mbeta\u001b[0m\u001b[0;34m=\u001b[0m\u001b[0msetting\u001b[0m\u001b[0;34m.\u001b[0m\u001b[0mbeta\u001b[0m\u001b[0;34m,\u001b[0m \u001b[0mpatience\u001b[0m\u001b[0;34m=\u001b[0m\u001b[0;36m3\u001b[0m\u001b[0;34m,\u001b[0m \u001b[0mmin_delta\u001b[0m\u001b[0;34m=\u001b[0m\u001b[0;36m0.03\u001b[0m\u001b[0;34m,\u001b[0m \u001b[0mmax_lr_decay\u001b[0m\u001b[0;34m=\u001b[0m\u001b[0mparams\u001b[0m\u001b[0;34m.\u001b[0m\u001b[0mmax_lr_decay\u001b[0m\u001b[0;34m,\u001b[0m \u001b[0mlambda_reg\u001b[0m\u001b[0;34m=\u001b[0m\u001b[0mparams\u001b[0m\u001b[0;34m.\u001b[0m\u001b[0mlambda_reg\u001b[0m\u001b[0;34m)\u001b[0m\u001b[0;34m\u001b[0m\u001b[0;34m\u001b[0m\u001b[0m\n\u001b[1;32m      9\u001b[0m \u001b[0;34m\u001b[0m\u001b[0m\n\u001b[0;32m---> 10\u001b[0;31m losses_reco, losses_valid = trainer.train(vae=vae, loss_fn=loss_fn,\n\u001b[0m\u001b[1;32m     11\u001b[0m                                          \u001b[0;31m# train_ds=batched_dataset, valid_ds=batched_dataset_valid,\u001b[0m\u001b[0;34m\u001b[0m\u001b[0;34m\u001b[0m\u001b[0;34m\u001b[0m\u001b[0m\n\u001b[1;32m     12\u001b[0m                                          \u001b[0;31m# train_ds  = data_train_generator_new(),valid_ds=data_train_generator_new(),\u001b[0m\u001b[0;34m\u001b[0m\u001b[0;34m\u001b[0m\u001b[0;34m\u001b[0m\u001b[0m\n",
      "\u001b[0;32m/eos/home-n/nchernya/MLHEP/AnomalyDetection/vande/training.py\u001b[0m in \u001b[0;36mtrain\u001b[0;34m(self, vae, loss_fn, train_ds, valid_ds, epochs, model_dir)\u001b[0m\n\u001b[1;32m    139\u001b[0m             \u001b[0mprint\u001b[0m\u001b[0;34m(\u001b[0m\u001b[0;34m\"\\n### [{}.{} {}:{}:{}] Start of epoch {}\"\u001b[0m\u001b[0;34m.\u001b[0m\u001b[0mformat\u001b[0m\u001b[0;34m(\u001b[0m\u001b[0mnow\u001b[0m\u001b[0;34m.\u001b[0m\u001b[0mday\u001b[0m\u001b[0;34m,\u001b[0m \u001b[0mnow\u001b[0m\u001b[0;34m.\u001b[0m\u001b[0mmonth\u001b[0m\u001b[0;34m,\u001b[0m \u001b[0mnow\u001b[0m\u001b[0;34m.\u001b[0m\u001b[0mhour\u001b[0m\u001b[0;34m,\u001b[0m \u001b[0mnow\u001b[0m\u001b[0;34m.\u001b[0m\u001b[0mminute\u001b[0m\u001b[0;34m,\u001b[0m \u001b[0mnow\u001b[0m\u001b[0;34m.\u001b[0m\u001b[0msecond\u001b[0m\u001b[0;34m,\u001b[0m \u001b[0mepoch\u001b[0m\u001b[0;34m)\u001b[0m\u001b[0;34m)\u001b[0m\u001b[0;34m\u001b[0m\u001b[0;34m\u001b[0m\u001b[0m\n\u001b[1;32m    140\u001b[0m             \u001b[0mstart_time\u001b[0m \u001b[0;34m=\u001b[0m \u001b[0mtime\u001b[0m\u001b[0;34m.\u001b[0m\u001b[0mtime\u001b[0m\u001b[0;34m(\u001b[0m\u001b[0;34m)\u001b[0m\u001b[0;34m\u001b[0m\u001b[0;34m\u001b[0m\u001b[0m\n\u001b[0;32m--> 141\u001b[0;31m             \u001b[0mtraining_loss_reco\u001b[0m\u001b[0;34m,\u001b[0m \u001b[0mtraining_loss_kl\u001b[0m \u001b[0;34m=\u001b[0m \u001b[0mself\u001b[0m\u001b[0;34m.\u001b[0m\u001b[0mtraining_epoch\u001b[0m\u001b[0;34m(\u001b[0m\u001b[0mmodel\u001b[0m\u001b[0;34m,\u001b[0m \u001b[0mloss_fn\u001b[0m\u001b[0;34m,\u001b[0m \u001b[0mtrain_ds\u001b[0m\u001b[0;34m)\u001b[0m\u001b[0;34m\u001b[0m\u001b[0;34m\u001b[0m\u001b[0m\n\u001b[0m\u001b[1;32m    142\u001b[0m             \u001b[0mvalidation_loss_reco\u001b[0m\u001b[0;34m,\u001b[0m \u001b[0mvalidation_loss_kl\u001b[0m \u001b[0;34m=\u001b[0m \u001b[0mself\u001b[0m\u001b[0;34m.\u001b[0m\u001b[0mvalidation_epoch\u001b[0m\u001b[0;34m(\u001b[0m\u001b[0mmodel\u001b[0m\u001b[0;34m,\u001b[0m \u001b[0mloss_fn\u001b[0m\u001b[0;34m,\u001b[0m \u001b[0mvalid_ds\u001b[0m\u001b[0;34m)\u001b[0m\u001b[0;34m\u001b[0m\u001b[0;34m\u001b[0m\u001b[0m\n\u001b[1;32m    143\u001b[0m             \u001b[0mlosses_reco\u001b[0m\u001b[0;34m.\u001b[0m\u001b[0mappend\u001b[0m\u001b[0;34m(\u001b[0m\u001b[0mtraining_loss_reco\u001b[0m \u001b[0;34m+\u001b[0m \u001b[0mself\u001b[0m\u001b[0;34m.\u001b[0m\u001b[0mbeta\u001b[0m \u001b[0;34m*\u001b[0m \u001b[0mtraining_loss_kl\u001b[0m\u001b[0;34m)\u001b[0m\u001b[0;34m\u001b[0m\u001b[0;34m\u001b[0m\u001b[0m\n",
      "\u001b[0;32m/eos/home-n/nchernya/MLHEP/AnomalyDetection/vande/training.py\u001b[0m in \u001b[0;36mtraining_epoch\u001b[0;34m(self, model, loss_fn, train_ds)\u001b[0m\n\u001b[1;32m     92\u001b[0m \u001b[0;34m\u001b[0m\u001b[0m\n\u001b[1;32m     93\u001b[0m         \u001b[0;31m# for each batch in training set\u001b[0m\u001b[0;34m\u001b[0m\u001b[0;34m\u001b[0m\u001b[0;34m\u001b[0m\u001b[0m\n\u001b[0;32m---> 94\u001b[0;31m         \u001b[0;32mfor\u001b[0m \u001b[0mstep\u001b[0m\u001b[0;34m,\u001b[0m \u001b[0mx_batch_train\u001b[0m \u001b[0;32min\u001b[0m \u001b[0menumerate\u001b[0m\u001b[0;34m(\u001b[0m\u001b[0mtrain_ds\u001b[0m\u001b[0;34m)\u001b[0m\u001b[0;34m:\u001b[0m\u001b[0;34m\u001b[0m\u001b[0;34m\u001b[0m\u001b[0m\n\u001b[0m\u001b[1;32m     95\u001b[0m             \u001b[0mreco_loss\u001b[0m\u001b[0;34m,\u001b[0m \u001b[0mkl_loss\u001b[0m \u001b[0;34m=\u001b[0m \u001b[0mself\u001b[0m\u001b[0;34m.\u001b[0m\u001b[0mtraining_step\u001b[0m\u001b[0;34m(\u001b[0m\u001b[0mmodel\u001b[0m\u001b[0;34m,\u001b[0m \u001b[0mloss_fn\u001b[0m\u001b[0;34m,\u001b[0m \u001b[0mx_batch_train\u001b[0m\u001b[0;34m)\u001b[0m\u001b[0;34m\u001b[0m\u001b[0;34m\u001b[0m\u001b[0m\n\u001b[1;32m     96\u001b[0m \u001b[0;34m\u001b[0m\u001b[0m\n",
      "\u001b[0;32m/cvmfs/sft-nightlies.cern.ch/lcg/views/dev3cuda/Tue/x86_64-centos7-gcc8-opt/lib/python3.8/site-packages/tensorflow/python/data/ops/iterator_ops.py\u001b[0m in \u001b[0;36m__next__\u001b[0;34m(self)\u001b[0m\n\u001b[1;32m    759\u001b[0m   \u001b[0;32mdef\u001b[0m \u001b[0m__next__\u001b[0m\u001b[0;34m(\u001b[0m\u001b[0mself\u001b[0m\u001b[0;34m)\u001b[0m\u001b[0;34m:\u001b[0m\u001b[0;34m\u001b[0m\u001b[0;34m\u001b[0m\u001b[0m\n\u001b[1;32m    760\u001b[0m     \u001b[0;32mtry\u001b[0m\u001b[0;34m:\u001b[0m\u001b[0;34m\u001b[0m\u001b[0;34m\u001b[0m\u001b[0m\n\u001b[0;32m--> 761\u001b[0;31m       \u001b[0;32mreturn\u001b[0m \u001b[0mself\u001b[0m\u001b[0;34m.\u001b[0m\u001b[0m_next_internal\u001b[0m\u001b[0;34m(\u001b[0m\u001b[0;34m)\u001b[0m\u001b[0;34m\u001b[0m\u001b[0;34m\u001b[0m\u001b[0m\n\u001b[0m\u001b[1;32m    762\u001b[0m     \u001b[0;32mexcept\u001b[0m \u001b[0merrors\u001b[0m\u001b[0;34m.\u001b[0m\u001b[0mOutOfRangeError\u001b[0m\u001b[0;34m:\u001b[0m\u001b[0;34m\u001b[0m\u001b[0;34m\u001b[0m\u001b[0m\n\u001b[1;32m    763\u001b[0m       \u001b[0;32mraise\u001b[0m \u001b[0mStopIteration\u001b[0m\u001b[0;34m\u001b[0m\u001b[0;34m\u001b[0m\u001b[0m\n",
      "\u001b[0;32m/cvmfs/sft-nightlies.cern.ch/lcg/views/dev3cuda/Tue/x86_64-centos7-gcc8-opt/lib/python3.8/site-packages/tensorflow/python/data/ops/iterator_ops.py\u001b[0m in \u001b[0;36m_next_internal\u001b[0;34m(self)\u001b[0m\n\u001b[1;32m    742\u001b[0m     \u001b[0;31m# to communicate that there is no more data to iterate over.\u001b[0m\u001b[0;34m\u001b[0m\u001b[0;34m\u001b[0m\u001b[0;34m\u001b[0m\u001b[0m\n\u001b[1;32m    743\u001b[0m     \u001b[0;32mwith\u001b[0m \u001b[0mcontext\u001b[0m\u001b[0;34m.\u001b[0m\u001b[0mexecution_mode\u001b[0m\u001b[0;34m(\u001b[0m\u001b[0mcontext\u001b[0m\u001b[0;34m.\u001b[0m\u001b[0mSYNC\u001b[0m\u001b[0;34m)\u001b[0m\u001b[0;34m:\u001b[0m\u001b[0;34m\u001b[0m\u001b[0;34m\u001b[0m\u001b[0m\n\u001b[0;32m--> 744\u001b[0;31m       ret = gen_dataset_ops.iterator_get_next(\n\u001b[0m\u001b[1;32m    745\u001b[0m           \u001b[0mself\u001b[0m\u001b[0;34m.\u001b[0m\u001b[0m_iterator_resource\u001b[0m\u001b[0;34m,\u001b[0m\u001b[0;34m\u001b[0m\u001b[0;34m\u001b[0m\u001b[0m\n\u001b[1;32m    746\u001b[0m           \u001b[0moutput_types\u001b[0m\u001b[0;34m=\u001b[0m\u001b[0mself\u001b[0m\u001b[0;34m.\u001b[0m\u001b[0m_flat_output_types\u001b[0m\u001b[0;34m,\u001b[0m\u001b[0;34m\u001b[0m\u001b[0;34m\u001b[0m\u001b[0m\n",
      "\u001b[0;32m/cvmfs/sft-nightlies.cern.ch/lcg/views/dev3cuda/Tue/x86_64-centos7-gcc8-opt/lib/python3.8/site-packages/tensorflow/python/ops/gen_dataset_ops.py\u001b[0m in \u001b[0;36miterator_get_next\u001b[0;34m(iterator, output_types, output_shapes, name)\u001b[0m\n\u001b[1;32m   2726\u001b[0m       \u001b[0;32mreturn\u001b[0m \u001b[0m_result\u001b[0m\u001b[0;34m\u001b[0m\u001b[0;34m\u001b[0m\u001b[0m\n\u001b[1;32m   2727\u001b[0m     \u001b[0;32mexcept\u001b[0m \u001b[0m_core\u001b[0m\u001b[0;34m.\u001b[0m\u001b[0m_NotOkStatusException\u001b[0m \u001b[0;32mas\u001b[0m \u001b[0me\u001b[0m\u001b[0;34m:\u001b[0m\u001b[0;34m\u001b[0m\u001b[0;34m\u001b[0m\u001b[0m\n\u001b[0;32m-> 2728\u001b[0;31m       \u001b[0m_ops\u001b[0m\u001b[0;34m.\u001b[0m\u001b[0mraise_from_not_ok_status\u001b[0m\u001b[0;34m(\u001b[0m\u001b[0me\u001b[0m\u001b[0;34m,\u001b[0m \u001b[0mname\u001b[0m\u001b[0;34m)\u001b[0m\u001b[0;34m\u001b[0m\u001b[0;34m\u001b[0m\u001b[0m\n\u001b[0m\u001b[1;32m   2729\u001b[0m     \u001b[0;32mexcept\u001b[0m \u001b[0m_core\u001b[0m\u001b[0;34m.\u001b[0m\u001b[0m_FallbackException\u001b[0m\u001b[0;34m:\u001b[0m\u001b[0;34m\u001b[0m\u001b[0;34m\u001b[0m\u001b[0m\n\u001b[1;32m   2730\u001b[0m       \u001b[0;32mpass\u001b[0m\u001b[0;34m\u001b[0m\u001b[0;34m\u001b[0m\u001b[0m\n",
      "\u001b[0;32m/cvmfs/sft-nightlies.cern.ch/lcg/views/dev3cuda/Tue/x86_64-centos7-gcc8-opt/lib/python3.8/site-packages/tensorflow/python/framework/ops.py\u001b[0m in \u001b[0;36mraise_from_not_ok_status\u001b[0;34m(e, name)\u001b[0m\n\u001b[1;32m   6895\u001b[0m   \u001b[0mmessage\u001b[0m \u001b[0;34m=\u001b[0m \u001b[0me\u001b[0m\u001b[0;34m.\u001b[0m\u001b[0mmessage\u001b[0m \u001b[0;34m+\u001b[0m \u001b[0;34m(\u001b[0m\u001b[0;34m\" name: \"\u001b[0m \u001b[0;34m+\u001b[0m \u001b[0mname\u001b[0m \u001b[0;32mif\u001b[0m \u001b[0mname\u001b[0m \u001b[0;32mis\u001b[0m \u001b[0;32mnot\u001b[0m \u001b[0;32mNone\u001b[0m \u001b[0;32melse\u001b[0m \u001b[0;34m\"\"\u001b[0m\u001b[0;34m)\u001b[0m\u001b[0;34m\u001b[0m\u001b[0;34m\u001b[0m\u001b[0m\n\u001b[1;32m   6896\u001b[0m   \u001b[0;31m# pylint: disable=protected-access\u001b[0m\u001b[0;34m\u001b[0m\u001b[0;34m\u001b[0m\u001b[0;34m\u001b[0m\u001b[0m\n\u001b[0;32m-> 6897\u001b[0;31m   \u001b[0msix\u001b[0m\u001b[0;34m.\u001b[0m\u001b[0mraise_from\u001b[0m\u001b[0;34m(\u001b[0m\u001b[0mcore\u001b[0m\u001b[0;34m.\u001b[0m\u001b[0m_status_to_exception\u001b[0m\u001b[0;34m(\u001b[0m\u001b[0me\u001b[0m\u001b[0;34m.\u001b[0m\u001b[0mcode\u001b[0m\u001b[0;34m,\u001b[0m \u001b[0mmessage\u001b[0m\u001b[0;34m)\u001b[0m\u001b[0;34m,\u001b[0m \u001b[0;32mNone\u001b[0m\u001b[0;34m)\u001b[0m\u001b[0;34m\u001b[0m\u001b[0;34m\u001b[0m\u001b[0m\n\u001b[0m\u001b[1;32m   6898\u001b[0m   \u001b[0;31m# pylint: enable=protected-access\u001b[0m\u001b[0;34m\u001b[0m\u001b[0;34m\u001b[0m\u001b[0;34m\u001b[0m\u001b[0m\n\u001b[1;32m   6899\u001b[0m \u001b[0;34m\u001b[0m\u001b[0m\n",
      "\u001b[0;32m/cvmfs/sft-nightlies.cern.ch/lcg/views/dev3cuda/Tue/x86_64-centos7-gcc8-opt/lib/python3.8/site-packages/six.py\u001b[0m in \u001b[0;36mraise_from\u001b[0;34m(value, from_value)\u001b[0m\n",
      "\u001b[0;31mUnknownError\u001b[0m: TypingError: Failed in nopython mode pipeline (step: nopython frontend)\nFailed in nopython mode pipeline (step: nopython frontend)\nNo implementation of function Function(<function vstack at 0x7f9144120ca0>) found for signature:\n \n >>> vstack(list(array(float32, 3d, C))<iv=None>)\n \nThere are 2 candidate implementations:\n  - Of which 2 did not match due to:\n  Overload in function 'vstack': File: numba/core/typing/npydecl.py: Line 833.\n    With argument(s): '(list(array(float32, 3d, C))<iv=None>)':\n   Rejected as the implementation raised a specific error:\n     TypeError: np.vstack(): expecting a non-empty tuple of arrays, got list(array(float32, 3d, C))<iv=None>\n  raised from /cvmfs/sft-nightlies.cern.ch/lcg/views/dev3cuda/Tue/x86_64-centos7-gcc8-opt/lib/python3.8/site-packages/numba/core/typing/npydecl.py:765\n\nDuring: resolving callee type: Function(<function vstack at 0x7f9144120ca0>)\nDuring: typing of call at /eos/home-n/nchernya/MLHEP/AnomalyDetection/vande/util/data_generator_particlenet.py (51)\n\n\nFile \"util/data_generator_particlenet.py\", line 51:\ndef constituents_to_input_samples(constituents, mask_j1, mask_j2): # -> np.ndarray\n    <source elided>\n        const_j2 = constituents[:,1,:,:][mask_j2]\n        samples = np.vstack([const_j1, const_j2])\n        ^\n\nDuring: resolving callee type: type(CPUDispatcher(<function constituents_to_input_samples at 0x7f8fc4500940>))\nDuring: typing of call at /eos/home-n/nchernya/MLHEP/AnomalyDetection/vande/util/data_generator_particlenet.py (59)\n\nDuring: resolving callee type: type(CPUDispatcher(<function constituents_to_input_samples at 0x7f8fc4500940>))\nDuring: typing of call at /eos/home-n/nchernya/MLHEP/AnomalyDetection/vande/util/data_generator_particlenet.py (59)\n\n\nFile \"util/data_generator_particlenet.py\", line 59:\ndef events_to_input_samples(constituents, features):\n    <source elided>\n    mask_j1, mask_j2 = mask_training_cuts(constituents, features)\n    return constituents_to_input_samples(constituents, mask_j1, mask_j2)\n    ^\n\nTraceback (most recent call last):\n\n  File \"/cvmfs/sft-nightlies.cern.ch/lcg/views/dev3cuda/Tue/x86_64-centos7-gcc8-opt/lib/python3.8/site-packages/tensorflow/python/ops/script_ops.py\", line 249, in __call__\n    ret = func(*args)\n\n  File \"/cvmfs/sft-nightlies.cern.ch/lcg/views/dev3cuda/Tue/x86_64-centos7-gcc8-opt/lib/python3.8/site-packages/tensorflow/python/autograph/impl/api.py\", line 645, in wrapper\n    return func(*args, **kwargs)\n\n  File \"/cvmfs/sft-nightlies.cern.ch/lcg/views/dev3cuda/Tue/x86_64-centos7-gcc8-opt/lib/python3.8/site-packages/tensorflow/python/data/ops/dataset_ops.py\", line 961, in generator_py_func\n    values = next(generator_state.get_iterator(iterator_id))\n\n  File \"/eos/home-n/nchernya/MLHEP/AnomalyDetection/vande/util/data_generator_particlenet.py\", line 144, in __call__\n    samples = events_to_input_samples(constituents, features)\n\n  File \"/cvmfs/sft-nightlies.cern.ch/lcg/views/dev3cuda/Tue/x86_64-centos7-gcc8-opt/lib/python3.8/site-packages/numba/core/dispatcher.py\", line 415, in _compile_for_args\n    error_rewrite(e, 'typing')\n\n  File \"/cvmfs/sft-nightlies.cern.ch/lcg/views/dev3cuda/Tue/x86_64-centos7-gcc8-opt/lib/python3.8/site-packages/numba/core/dispatcher.py\", line 358, in error_rewrite\n    reraise(type(e), e, None)\n\n  File \"/cvmfs/sft-nightlies.cern.ch/lcg/views/dev3cuda/Tue/x86_64-centos7-gcc8-opt/lib/python3.8/site-packages/numba/core/utils.py\", line 80, in reraise\n    raise value.with_traceback(tb)\n\nnumba.core.errors.TypingError: Failed in nopython mode pipeline (step: nopython frontend)\nFailed in nopython mode pipeline (step: nopython frontend)\nNo implementation of function Function(<function vstack at 0x7f9144120ca0>) found for signature:\n \n >>> vstack(list(array(float32, 3d, C))<iv=None>)\n \nThere are 2 candidate implementations:\n  - Of which 2 did not match due to:\n  Overload in function 'vstack': File: numba/core/typing/npydecl.py: Line 833.\n    With argument(s): '(list(array(float32, 3d, C))<iv=None>)':\n   Rejected as the implementation raised a specific error:\n     TypeError: np.vstack(): expecting a non-empty tuple of arrays, got list(array(float32, 3d, C))<iv=None>\n  raised from /cvmfs/sft-nightlies.cern.ch/lcg/views/dev3cuda/Tue/x86_64-centos7-gcc8-opt/lib/python3.8/site-packages/numba/core/typing/npydecl.py:765\n\nDuring: resolving callee type: Function(<function vstack at 0x7f9144120ca0>)\nDuring: typing of call at /eos/home-n/nchernya/MLHEP/AnomalyDetection/vande/util/data_generator_particlenet.py (51)\n\n\nFile \"util/data_generator_particlenet.py\", line 51:\ndef constituents_to_input_samples(constituents, mask_j1, mask_j2): # -> np.ndarray\n    <source elided>\n        const_j2 = constituents[:,1,:,:][mask_j2]\n        samples = np.vstack([const_j1, const_j2])\n        ^\n\nDuring: resolving callee type: type(CPUDispatcher(<function constituents_to_input_samples at 0x7f8fc4500940>))\nDuring: typing of call at /eos/home-n/nchernya/MLHEP/AnomalyDetection/vande/util/data_generator_particlenet.py (59)\n\nDuring: resolving callee type: type(CPUDispatcher(<function constituents_to_input_samples at 0x7f8fc4500940>))\nDuring: typing of call at /eos/home-n/nchernya/MLHEP/AnomalyDetection/vande/util/data_generator_particlenet.py (59)\n\n\nFile \"util/data_generator_particlenet.py\", line 59:\ndef events_to_input_samples(constituents, features):\n    <source elided>\n    mask_j1, mask_j2 = mask_training_cuts(constituents, features)\n    return constituents_to_input_samples(constituents, mask_j1, mask_j2)\n    ^\n\n\n\n\t [[{{node PyFunc}}]] [Op:IteratorGetNext]"
     ]
    }
   ],
   "source": [
    "import time\n",
    "\n",
    "# starting time\n",
    "start = time.time()\n",
    "\n",
    "reload(tra)\n",
    "import setGPU\n",
    "trainer = tra.TrainerParticleNet(optimizer=optimizer, beta=setting.beta, patience=3, min_delta=0.03, max_lr_decay=params.max_lr_decay, lambda_reg=params.lambda_reg)\n",
    "\n",
    "losses_reco, losses_valid = trainer.train(vae=vae, loss_fn=loss_fn,\n",
    "                                         # train_ds=batched_dataset, valid_ds=batched_dataset_valid,\n",
    "                                         # train_ds  = data_train_generator_new(),valid_ds=data_train_generator_new(),\n",
    "                                                                           # train_ds=batched_dataset, valid_ds=batched_dataset,\n",
    "                                          train_ds  = ds,valid_ds=ds,\n",
    "                                          epochs=params.epochs, model_dir='/eos/user/n/nchernya/MLHEP/AnomalyDetection/')\n",
    "\n",
    "# end time\n",
    "end = time.time()\n",
    "\n",
    "# total time taken\n",
    "print(f\"Runtime of the program is {end - start}\")\n"
   ]
  },
  {
   "cell_type": "code",
   "execution_count": null,
   "metadata": {},
   "outputs": [],
   "source": []
  },
  {
   "cell_type": "code",
   "execution_count": null,
   "metadata": {},
   "outputs": [],
   "source": []
  },
  {
   "cell_type": "code",
   "execution_count": 6,
   "metadata": {},
   "outputs": [
    {
     "name": "stdout",
     "output_type": "stream",
     "text": [
      "Opening file : /eos/project/d/dshep/TOPCLASS/DijetAnomaly/VAE_data/events/qcd_sqrtshatTeV_13TeV_PU40_NEW_EXT_sideband_parts/qcd_sqrtshatTeV_13TeV_PU40_NEW_EXT_sideband_001.h5\n",
      ">>> Normalizing features\n",
      "Training data size 19688\n"
     ]
    }
   ],
   "source": [
    "import glob\n",
    "import h5py\n",
    "data_train = dage_pn.get_data_from_file(path=paths.sample_dir_path('qcdSideExt'),file_num=1,end=params.valid_total_n)\n",
    "train_ds = tf.data.Dataset.from_tensor_slices((data_train[:,:,0:2],data_train[:,:,:])).batch(params.batch_n, drop_remainder=True).prefetch(buffer_size=tf.data.experimental.AUTOTUNE)"
   ]
  },
  {
   "cell_type": "code",
   "execution_count": 7,
   "metadata": {},
   "outputs": [
    {
     "name": "stdout",
     "output_type": "stream",
     "text": [
      "Opening file : /eos/project/d/dshep/TOPCLASS/DijetAnomaly/VAE_data/events/RSGraviton_WW_NARROW_13TeV_PU40_3.5TeV_NEW_parts/RSGraviton_WW_NARROW_13TeV_PU40_3.5TeV_NEW_concat_000.h5\n",
      ">>> Normalizing features\n",
      "Training data size 19934\n",
      "Opening file : /eos/project/d/dshep/TOPCLASS/DijetAnomaly/VAE_data/events/RSGraviton_WW_NARROW_13TeV_PU40_1.5TeV_NEW_parts/RSGraviton_WW_NARROW_13TeV_PU40_1.5TeV_NEW_concat_000.h5\n",
      ">>> Normalizing features\n",
      "Training data size 19747\n",
      "Opening file : /eos/project/d/dshep/TOPCLASS/DijetAnomaly/VAE_data/events/RSGraviton_WW_BROAD_13TeV_PU40_3.5TeV_NEW_parts/RSGraviton_WW_BROAD_13TeV_PU40_3.5TeV_NEW_concat_000.h5\n",
      ">>> Normalizing features\n",
      "Training data size 19920\n",
      "Opening file : /eos/project/d/dshep/TOPCLASS/DijetAnomaly/VAE_data/events/RSGraviton_WW_BROAD_13TeV_PU40_1.5TeV_NEW_parts/RSGraviton_WW_BROAD_13TeV_PU40_1.5TeV_NEW_concat_000.h5\n",
      ">>> Normalizing features\n",
      "Training data size 19743\n"
     ]
    }
   ],
   "source": [
    "#signal\n",
    "DATA_PATH = '/eos/project/d/dshep/TOPCLASS/DijetAnomaly/VAE_data/events/'\n",
    "\n",
    "sig_types = 'GtoWW35na,GtoWW15na,GtoWW35br,GtoWW15br'.split(',')\n",
    "particles_sig_dict = {}\n",
    "particles_sig_dict['ds'] = {}\n",
    "\n",
    "for sig in sig_types:\n",
    "    data_train = dage_pn.get_data_from_file(path=paths.sample_dir_path(sig),file_num=0,end=params.valid_total_n)\n",
    "    sig_ds = tf.data.Dataset.from_tensor_slices((data_train[:,:,0:2],data_train[:,:,:])).batch(params.batch_n, drop_remainder=True).prefetch(buffer_size=tf.data.experimental.AUTOTUNE)\n",
    "    particles_sig_dict['ds'][sig]= sig_ds\n",
    "\n",
    "#signal_types = list(particles_sig_dict.keys()) "
   ]
  },
  {
   "cell_type": "code",
   "execution_count": null,
   "metadata": {},
   "outputs": [],
   "source": []
  },
  {
   "cell_type": "code",
   "execution_count": 29,
   "metadata": {},
   "outputs": [
    {
     "data": {
      "text/plain": [
       "{'GtoWW35na': <PrefetchDataset shapes: ((None, 100, 2), (None, 100, 3)), types: (tf.float32, tf.float32)>}"
      ]
     },
     "execution_count": 29,
     "metadata": {},
     "output_type": "execute_result"
    }
   ],
   "source": []
  },
  {
   "cell_type": "code",
   "execution_count": 8,
   "metadata": {},
   "outputs": [],
   "source": [
    "reload(tra)\n",
    "import vae.layers as layers\n",
    "loss_fn = losses.threeD_loss\n",
    "import vae.vae_particlenet as vae_pn\n",
    "reload(vae_pn)\n",
    "from vae.vae_particlenet import VAE_ParticleNet\n",
    "from tensorflow.keras.layers import LeakyReLU\n",
    "\n",
    "\n",
    "#reco_bg, loss_bg_reco, loss_bg_kl = tra.predict_particle_net(vae.model, loss_fn, batched_dataset)\n",
    "saved_path = '/eos/user/n/nchernya/MLHEP/AnomalyDetection/autoencoder_for_anomaly/graph_based/VAE_models/run_13/'\n",
    "#path=os.path.join(saved_path, 'best_so_far')\n",
    "path=saved_path\n",
    "vae = VAE_ParticleNet.from_saved_model(path=path)\n",
    "beta= vae.beta"
   ]
  },
  {
   "cell_type": "code",
   "execution_count": 111,
   "metadata": {},
   "outputs": [],
   "source": [
    "intermediate_layer_model = tf.keras.Model(inputs=vae.encoder.input,\n",
    "                                          outputs=vae.encoder.get_layer('PN_1_act2').output)"
   ]
  },
  {
   "cell_type": "code",
   "execution_count": 112,
   "metadata": {},
   "outputs": [
    {
     "name": "stdout",
     "output_type": "stream",
     "text": [
      "Model: \"functional_17\"\n",
      "__________________________________________________________________________________________________\n",
      "Layer (type)                    Output Shape         Param #     Connected to                     \n",
      "==================================================================================================\n",
      "points (InputLayer)             [(None, 100, 2)]     0                                            \n",
      "__________________________________________________________________________________________________\n",
      "tf_op_layer_Transpose (TensorFl (None, 2, 100)       0           points[0][0]                     \n",
      "__________________________________________________________________________________________________\n",
      "tf_op_layer_Mul (TensorFlowOpLa (None, 100, 2)       0           points[0][0]                     \n",
      "                                                                 points[0][0]                     \n",
      "__________________________________________________________________________________________________\n",
      "tf_op_layer_BatchMatMulV2 (Tens (None, 100, 100)     0           points[0][0]                     \n",
      "                                                                 tf_op_layer_Transpose[0][0]      \n",
      "__________________________________________________________________________________________________\n",
      "tf_op_layer_Mul_1 (TensorFlowOp (None, 100, 2)       0           points[0][0]                     \n",
      "                                                                 points[0][0]                     \n",
      "__________________________________________________________________________________________________\n",
      "tf_op_layer_Sum (TensorFlowOpLa (None, 100, 1)       0           tf_op_layer_Mul[0][0]            \n",
      "__________________________________________________________________________________________________\n",
      "tf_op_layer_Mul_2 (TensorFlowOp (None, 100, 100)     0           tf_op_layer_BatchMatMulV2[0][0]  \n",
      "__________________________________________________________________________________________________\n",
      "tf_op_layer_Sum_1 (TensorFlowOp (None, 100, 1)       0           tf_op_layer_Mul_1[0][0]          \n",
      "__________________________________________________________________________________________________\n",
      "features (InputLayer)           [(None, 100, 3)]     0                                            \n",
      "__________________________________________________________________________________________________\n",
      "tf_op_layer_Sub (TensorFlowOpLa (None, 100, 100)     0           tf_op_layer_Sum[0][0]            \n",
      "                                                                 tf_op_layer_Mul_2[0][0]          \n",
      "__________________________________________________________________________________________________\n",
      "tf_op_layer_Transpose_1 (Tensor (None, 1, 100)       0           tf_op_layer_Sum_1[0][0]          \n",
      "__________________________________________________________________________________________________\n",
      "tf_op_layer_Shape (TensorFlowOp (3,)                 0           features[0][0]                   \n",
      "__________________________________________________________________________________________________\n",
      "tf_op_layer_AddV2 (TensorFlowOp (None, 100, 100)     0           tf_op_layer_Sub[0][0]            \n",
      "                                                                 tf_op_layer_Transpose_1[0][0]    \n",
      "__________________________________________________________________________________________________\n",
      "tf_op_layer_strided_slice_1 (Te ()                   0           tf_op_layer_Shape[0][0]          \n",
      "__________________________________________________________________________________________________\n",
      "tf_op_layer_Neg (TensorFlowOpLa (None, 100, 100)     0           tf_op_layer_AddV2[0][0]          \n",
      "__________________________________________________________________________________________________\n",
      "tf_op_layer_Range (TensorFlowOp (None,)              0           tf_op_layer_strided_slice_1[0][0]\n",
      "__________________________________________________________________________________________________\n",
      "tf_op_layer_TopKV2 (TensorFlowO [(None, 100, 8), (No 0           tf_op_layer_Neg[0][0]            \n",
      "__________________________________________________________________________________________________\n",
      "tf_op_layer_Reshape (TensorFlow (None, 1, 1, 1)      0           tf_op_layer_Range[0][0]          \n",
      "__________________________________________________________________________________________________\n",
      "tf_op_layer_strided_slice (Tens (None, 100, 7)       0           tf_op_layer_TopKV2[0][1]         \n",
      "__________________________________________________________________________________________________\n",
      "tf_op_layer_Tile (TensorFlowOpL (None, 100, 7, 1)    0           tf_op_layer_Reshape[0][0]        \n",
      "__________________________________________________________________________________________________\n",
      "tf_op_layer_ExpandDims_1 (Tenso (None, 100, 7, 1)    0           tf_op_layer_strided_slice[0][0]  \n",
      "__________________________________________________________________________________________________\n",
      "tf_op_layer_concat (TensorFlowO (None, 100, 7, 2)    0           tf_op_layer_Tile[0][0]           \n",
      "                                                                 tf_op_layer_ExpandDims_1[0][0]   \n",
      "__________________________________________________________________________________________________\n",
      "tf_op_layer_ExpandDims_2 (Tenso (None, 100, 1, 3)    0           features[0][0]                   \n",
      "__________________________________________________________________________________________________\n",
      "tf_op_layer_GatherNd (TensorFlo (None, 100, 7, 3)    0           features[0][0]                   \n",
      "                                                                 tf_op_layer_concat[0][0]         \n",
      "__________________________________________________________________________________________________\n",
      "tf_op_layer_Tile_1 (TensorFlowO (None, 100, 7, 3)    0           tf_op_layer_ExpandDims_2[0][0]   \n",
      "__________________________________________________________________________________________________\n",
      "tf_op_layer_Sub_1 (TensorFlowOp (None, 100, 7, 3)    0           tf_op_layer_GatherNd[0][0]       \n",
      "                                                                 tf_op_layer_Tile_1[0][0]         \n",
      "__________________________________________________________________________________________________\n",
      "PN_0_conv0 (Conv2D)             (None, 100, 7, 32)   96          tf_op_layer_Sub_1[0][0]          \n",
      "__________________________________________________________________________________________________\n",
      "PN_0_bn0 (BatchNormalization)   (None, 100, 7, 32)   128         PN_0_conv0[0][0]                 \n",
      "__________________________________________________________________________________________________\n",
      "PN_0_act0 (Activation)          (None, 100, 7, 32)   0           PN_0_bn0[0][0]                   \n",
      "__________________________________________________________________________________________________\n",
      "PN_0_conv1 (Conv2D)             (None, 100, 7, 32)   1024        PN_0_act0[0][0]                  \n",
      "__________________________________________________________________________________________________\n",
      "PN_0_bn1 (BatchNormalization)   (None, 100, 7, 32)   128         PN_0_conv1[0][0]                 \n",
      "__________________________________________________________________________________________________\n",
      "PN_0_act1 (Activation)          (None, 100, 7, 32)   0           PN_0_bn1[0][0]                   \n",
      "__________________________________________________________________________________________________\n",
      "PN_0_conv2 (Conv2D)             (None, 100, 7, 32)   1024        PN_0_act1[0][0]                  \n",
      "__________________________________________________________________________________________________\n",
      "tf_op_layer_Transpose_2 (Tensor (None, 2, 100)       0           points[0][0]                     \n",
      "__________________________________________________________________________________________________\n",
      "PN_0_bn2 (BatchNormalization)   (None, 100, 7, 32)   128         PN_0_conv2[0][0]                 \n",
      "__________________________________________________________________________________________________\n",
      "tf_op_layer_Mul_3 (TensorFlowOp (None, 100, 2)       0           points[0][0]                     \n",
      "                                                                 points[0][0]                     \n",
      "__________________________________________________________________________________________________\n",
      "tf_op_layer_BatchMatMulV2_1 (Te (None, 100, 100)     0           points[0][0]                     \n",
      "                                                                 tf_op_layer_Transpose_2[0][0]    \n",
      "__________________________________________________________________________________________________\n",
      "tf_op_layer_Mul_4 (TensorFlowOp (None, 100, 2)       0           points[0][0]                     \n",
      "                                                                 points[0][0]                     \n",
      "__________________________________________________________________________________________________\n",
      "PN_0_act2 (Activation)          (None, 100, 7, 32)   0           PN_0_bn2[0][0]                   \n",
      "__________________________________________________________________________________________________\n",
      "tf_op_layer_Sum_2 (TensorFlowOp (None, 100, 1)       0           tf_op_layer_Mul_3[0][0]          \n",
      "__________________________________________________________________________________________________\n",
      "tf_op_layer_Mul_5 (TensorFlowOp (None, 100, 100)     0           tf_op_layer_BatchMatMulV2_1[0][0]\n",
      "__________________________________________________________________________________________________\n",
      "tf_op_layer_Sum_3 (TensorFlowOp (None, 100, 1)       0           tf_op_layer_Mul_4[0][0]          \n",
      "__________________________________________________________________________________________________\n",
      "tf_op_layer_Mean (TensorFlowOpL (None, 100, 32)      0           PN_0_act2[0][0]                  \n",
      "__________________________________________________________________________________________________\n",
      "tf_op_layer_Sub_2 (TensorFlowOp (None, 100, 100)     0           tf_op_layer_Sum_2[0][0]          \n",
      "                                                                 tf_op_layer_Mul_5[0][0]          \n",
      "__________________________________________________________________________________________________\n",
      "tf_op_layer_Transpose_3 (Tensor (None, 1, 100)       0           tf_op_layer_Sum_3[0][0]          \n",
      "__________________________________________________________________________________________________\n",
      "tf_op_layer_Shape_1 (TensorFlow (3,)                 0           tf_op_layer_Mean[0][0]           \n",
      "__________________________________________________________________________________________________\n",
      "tf_op_layer_AddV2_1 (TensorFlow (None, 100, 100)     0           tf_op_layer_Sub_2[0][0]          \n",
      "                                                                 tf_op_layer_Transpose_3[0][0]    \n",
      "__________________________________________________________________________________________________\n",
      "tf_op_layer_strided_slice_3 (Te ()                   0           tf_op_layer_Shape_1[0][0]        \n",
      "__________________________________________________________________________________________________\n",
      "tf_op_layer_Neg_1 (TensorFlowOp (None, 100, 100)     0           tf_op_layer_AddV2_1[0][0]        \n",
      "__________________________________________________________________________________________________\n",
      "tf_op_layer_Range_1 (TensorFlow (None,)              0           tf_op_layer_strided_slice_3[0][0]\n",
      "__________________________________________________________________________________________________\n",
      "tf_op_layer_TopKV2_1 (TensorFlo [(None, 100, 8), (No 0           tf_op_layer_Neg_1[0][0]          \n",
      "__________________________________________________________________________________________________\n",
      "tf_op_layer_Reshape_1 (TensorFl (None, 1, 1, 1)      0           tf_op_layer_Range_1[0][0]        \n",
      "__________________________________________________________________________________________________\n",
      "tf_op_layer_strided_slice_2 (Te (None, 100, 7)       0           tf_op_layer_TopKV2_1[0][1]       \n",
      "__________________________________________________________________________________________________\n",
      "tf_op_layer_Tile_2 (TensorFlowO (None, 100, 7, 1)    0           tf_op_layer_Reshape_1[0][0]      \n",
      "__________________________________________________________________________________________________\n",
      "tf_op_layer_ExpandDims_4 (Tenso (None, 100, 7, 1)    0           tf_op_layer_strided_slice_2[0][0]\n",
      "__________________________________________________________________________________________________\n",
      "tf_op_layer_concat_1 (TensorFlo (None, 100, 7, 2)    0           tf_op_layer_Tile_2[0][0]         \n",
      "                                                                 tf_op_layer_ExpandDims_4[0][0]   \n",
      "__________________________________________________________________________________________________\n",
      "tf_op_layer_ExpandDims_5 (Tenso (None, 100, 1, 32)   0           tf_op_layer_Mean[0][0]           \n",
      "__________________________________________________________________________________________________\n",
      "tf_op_layer_GatherNd_1 (TensorF (None, 100, 7, 32)   0           tf_op_layer_Mean[0][0]           \n",
      "                                                                 tf_op_layer_concat_1[0][0]       \n",
      "__________________________________________________________________________________________________\n",
      "tf_op_layer_Tile_3 (TensorFlowO (None, 100, 7, 32)   0           tf_op_layer_ExpandDims_5[0][0]   \n",
      "__________________________________________________________________________________________________\n",
      "tf_op_layer_Sub_3 (TensorFlowOp (None, 100, 7, 32)   0           tf_op_layer_GatherNd_1[0][0]     \n",
      "                                                                 tf_op_layer_Tile_3[0][0]         \n",
      "__________________________________________________________________________________________________\n",
      "PN_1_conv0 (Conv2D)             (None, 100, 7, 64)   2048        tf_op_layer_Sub_3[0][0]          \n",
      "__________________________________________________________________________________________________\n",
      "PN_1_bn0 (BatchNormalization)   (None, 100, 7, 64)   256         PN_1_conv0[0][0]                 \n",
      "__________________________________________________________________________________________________\n",
      "PN_1_act0 (Activation)          (None, 100, 7, 64)   0           PN_1_bn0[0][0]                   \n",
      "__________________________________________________________________________________________________\n",
      "PN_1_conv1 (Conv2D)             (None, 100, 7, 64)   4096        PN_1_act0[0][0]                  \n",
      "__________________________________________________________________________________________________\n",
      "PN_1_bn1 (BatchNormalization)   (None, 100, 7, 64)   256         PN_1_conv1[0][0]                 \n",
      "__________________________________________________________________________________________________\n",
      "PN_1_act1 (Activation)          (None, 100, 7, 64)   0           PN_1_bn1[0][0]                   \n",
      "__________________________________________________________________________________________________\n",
      "PN_1_conv2 (Conv2D)             (None, 100, 7, 64)   4096        PN_1_act1[0][0]                  \n",
      "__________________________________________________________________________________________________\n",
      "PN_1_bn2 (BatchNormalization)   (None, 100, 7, 64)   256         PN_1_conv2[0][0]                 \n",
      "__________________________________________________________________________________________________\n",
      "PN_1_act2 (Activation)          (None, 100, 7, 64)   0           PN_1_bn2[0][0]                   \n",
      "==================================================================================================\n",
      "Total params: 13,536\n",
      "Trainable params: 12,960\n",
      "Non-trainable params: 576\n",
      "__________________________________________________________________________________________________\n"
     ]
    }
   ],
   "source": [
    "intermediate_layer_model.summary()"
   ]
  },
  {
   "cell_type": "code",
   "execution_count": null,
   "metadata": {},
   "outputs": [],
   "source": []
  },
  {
   "cell_type": "code",
   "execution_count": 113,
   "metadata": {},
   "outputs": [],
   "source": [
    "def predict_func(model,test_ds):    \n",
    "    predictions = []\n",
    "\n",
    "    for step, x_batch_test in enumerate(test_ds):\n",
    "        (coord_in, feats_in)  = x_batch_test\n",
    "        # print('predicting batch {}'.format(step))\n",
    "        predictions_batch = model(x_batch_test, training=False)\n",
    "        predictions.append(predictions_batch.numpy())\n",
    "    return np.concatenate(predictions, axis=0)"
   ]
  },
  {
   "cell_type": "code",
   "execution_count": 114,
   "metadata": {},
   "outputs": [],
   "source": [
    "intermediate_output = predict_func(intermediate_layer_model,train_ds)"
   ]
  },
  {
   "cell_type": "code",
   "execution_count": 115,
   "metadata": {},
   "outputs": [
    {
     "data": {
      "text/plain": [
       "(19650, 100, 7, 64)"
      ]
     },
     "execution_count": 115,
     "metadata": {},
     "output_type": "execute_result"
    }
   ],
   "source": [
    "intermediate_output.shape"
   ]
  },
  {
   "cell_type": "code",
   "execution_count": null,
   "metadata": {},
   "outputs": [],
   "source": []
  },
  {
   "cell_type": "code",
   "execution_count": 132,
   "metadata": {},
   "outputs": [
    {
     "data": {
      "text/plain": [
       "<matplotlib.image.AxesImage at 0x7f6cf0488550>"
      ]
     },
     "execution_count": 132,
     "metadata": {},
     "output_type": "execute_result"
    },
    {
     "data": {
      "image/png": "[encoded data removed]",
      "text/plain": [
       "<Figure size 432x288 with 1 Axes>"
      ]
     },
     "metadata": {
      "needs_background": "light"
     },
     "output_type": "display_data"
    }
   ],
   "source": [
    "import matplotlib.pyplot as plt\n",
    "import numpy as np ## to reshape\n",
    "%matplotlib inline\n",
    "#mean_out = np.mean(np.mean(intermediate_output,axis=1),axis=0)\n",
    "fr\n",
    "mean_out = np.mean(intermediate_output[:,50,:,:],axis=0)\n",
    "plt.imshow(mean_out,cmap='coolwarm') \n",
    "# note that output should be reshape in 3 dimension"
   ]
  },
  {
   "cell_type": "code",
   "execution_count": 67,
   "metadata": {},
   "outputs": [
    {
     "name": "stdout",
     "output_type": "stream",
     "text": [
      "points\n",
      "tf_op_layer_Transpose\n",
      "tf_op_layer_Mul\n",
      "tf_op_layer_BatchMatMulV2\n",
      "tf_op_layer_Mul_1\n",
      "tf_op_layer_Sum\n",
      "tf_op_layer_Mul_2\n",
      "tf_op_layer_Sum_1\n",
      "features\n",
      "tf_op_layer_Sub\n",
      "tf_op_layer_Transpose_1\n",
      "tf_op_layer_Shape\n",
      "tf_op_layer_AddV2\n",
      "tf_op_layer_strided_slice_1\n",
      "tf_op_layer_Neg\n",
      "tf_op_layer_Range\n",
      "tf_op_layer_TopKV2\n",
      "tf_op_layer_Reshape\n",
      "tf_op_layer_strided_slice\n",
      "tf_op_layer_Tile\n",
      "tf_op_layer_ExpandDims_1\n",
      "tf_op_layer_concat\n",
      "tf_op_layer_ExpandDims_2\n",
      "tf_op_layer_GatherNd\n",
      "tf_op_layer_Tile_1\n",
      "tf_op_layer_Sub_1\n",
      "PN_0_conv0\n",
      "PN_0_bn0\n",
      "PN_0_act0\n",
      "PN_0_conv1\n",
      "PN_0_bn1\n",
      "PN_0_act1\n",
      "PN_0_conv2\n",
      "tf_op_layer_Transpose_2\n",
      "PN_0_bn2\n",
      "tf_op_layer_Mul_3\n",
      "tf_op_layer_BatchMatMulV2_1\n",
      "tf_op_layer_Mul_4\n",
      "PN_0_act2\n",
      "tf_op_layer_Sum_2\n",
      "tf_op_layer_Mul_5\n",
      "tf_op_layer_Sum_3\n",
      "tf_op_layer_Mean\n",
      "tf_op_layer_Sub_2\n",
      "tf_op_layer_Transpose_3\n",
      "tf_op_layer_Shape_1\n",
      "tf_op_layer_AddV2_1\n",
      "tf_op_layer_strided_slice_3\n",
      "tf_op_layer_Neg_1\n",
      "tf_op_layer_Range_1\n",
      "tf_op_layer_TopKV2_1\n",
      "tf_op_layer_Reshape_1\n",
      "tf_op_layer_strided_slice_2\n",
      "tf_op_layer_Tile_2\n",
      "tf_op_layer_ExpandDims_4\n",
      "tf_op_layer_concat_1\n",
      "tf_op_layer_ExpandDims_5\n",
      "tf_op_layer_GatherNd_1\n",
      "tf_op_layer_Tile_3\n",
      "tf_op_layer_Sub_3\n",
      "PN_1_conv0\n",
      "PN_1_bn0\n",
      "PN_1_act0\n",
      "PN_1_conv1\n",
      "PN_1_bn1\n",
      "PN_1_act1\n",
      "PN_1_conv2\n",
      "PN_1_bn2\n",
      "PN_1_act2\n",
      "tf_op_layer_Mean_1\n",
      "tf_op_layer_Mean_2\n",
      "dense\n",
      "z_mean\n",
      "z_log_var\n",
      "sampling\n"
     ]
    }
   ],
   "source": [
    "for i in range(len(vae.encoder.layers)):\n",
    "    print(vae.encoder.layers[i].name)"
   ]
  },
  {
   "cell_type": "code",
   "execution_count": 68,
   "metadata": {},
   "outputs": [
    {
     "data": {
      "text/plain": [
       "[<tf.Tensor 'points:0' shape=(None, 100, 2) dtype=float32>,\n",
       " <tf.Tensor 'features:0' shape=(None, 100, 3) dtype=float32>]"
      ]
     },
     "execution_count": 68,
     "metadata": {},
     "output_type": "execute_result"
    }
   ],
   "source": [
    "vae.encoder.input"
   ]
  },
  {
   "cell_type": "code",
   "execution_count": 62,
   "metadata": {},
   "outputs": [
    {
     "name": "stderr",
     "output_type": "stream",
     "text": [
      "Using TensorFlow backend.\n"
     ]
    },
    {
     "ename": "AttributeError",
     "evalue": "module 'tensorflow' has no attribute 'get_default_session'",
     "output_type": "error",
     "traceback": [
      "\u001b[0;31m---------------------------------------------------------------------------\u001b[0m",
      "\u001b[0;31mAttributeError\u001b[0m                            Traceback (most recent call last)",
      "\u001b[0;32m<ipython-input-62-7a56af916782>\u001b[0m in \u001b[0;36m<module>\u001b[0;34m\u001b[0m\n\u001b[1;32m      4\u001b[0m get_3rd_layer_output = K.function([vae.encoder.layers[0].input],\n\u001b[1;32m      5\u001b[0m                                   [vae.encoder.layers[2].output])\n\u001b[0;32m----> 6\u001b[0;31m \u001b[0mlayer_output\u001b[0m \u001b[0;34m=\u001b[0m \u001b[0mget_3rd_layer_output\u001b[0m\u001b[0;34m(\u001b[0m\u001b[0;34m[\u001b[0m\u001b[0mtrain_ds\u001b[0m\u001b[0;34m]\u001b[0m\u001b[0;34m)\u001b[0m\u001b[0;34m[\u001b[0m\u001b[0;36m0\u001b[0m\u001b[0;34m]\u001b[0m \u001b[0;31m## pass as input image\u001b[0m\u001b[0;34m\u001b[0m\u001b[0;34m\u001b[0m\u001b[0m\n\u001b[0m",
      "\u001b[0;32m/cvmfs/sft.cern.ch/lcg/views/LCG_100cuda/x86_64-centos7-gcc8-opt/lib/python3.7/site-packages/keras/backend/tensorflow_backend.py\u001b[0m in \u001b[0;36m__call__\u001b[0;34m(self, inputs)\u001b[0m\n\u001b[1;32m   2695\u001b[0m \u001b[0;34m\u001b[0m\u001b[0m\n\u001b[1;32m   2696\u001b[0m     \u001b[0;32mdef\u001b[0m \u001b[0m__call__\u001b[0m\u001b[0;34m(\u001b[0m\u001b[0mself\u001b[0m\u001b[0;34m,\u001b[0m \u001b[0minputs\u001b[0m\u001b[0;34m)\u001b[0m\u001b[0;34m:\u001b[0m\u001b[0;34m\u001b[0m\u001b[0;34m\u001b[0m\u001b[0m\n\u001b[0;32m-> 2697\u001b[0;31m         \u001b[0;32mif\u001b[0m \u001b[0mhasattr\u001b[0m\u001b[0;34m(\u001b[0m\u001b[0mget_session\u001b[0m\u001b[0;34m(\u001b[0m\u001b[0;34m)\u001b[0m\u001b[0;34m,\u001b[0m \u001b[0;34m'_make_callable_from_options'\u001b[0m\u001b[0;34m)\u001b[0m\u001b[0;34m:\u001b[0m\u001b[0;34m\u001b[0m\u001b[0;34m\u001b[0m\u001b[0m\n\u001b[0m\u001b[1;32m   2698\u001b[0m             \u001b[0;32mif\u001b[0m \u001b[0mpy_any\u001b[0m\u001b[0;34m(\u001b[0m\u001b[0mis_sparse\u001b[0m\u001b[0;34m(\u001b[0m\u001b[0mx\u001b[0m\u001b[0;34m)\u001b[0m \u001b[0;32mfor\u001b[0m \u001b[0mx\u001b[0m \u001b[0;32min\u001b[0m \u001b[0mself\u001b[0m\u001b[0;34m.\u001b[0m\u001b[0minputs\u001b[0m\u001b[0;34m)\u001b[0m\u001b[0;34m:\u001b[0m\u001b[0;34m\u001b[0m\u001b[0;34m\u001b[0m\u001b[0m\n\u001b[1;32m   2699\u001b[0m                 \u001b[0;32mif\u001b[0m \u001b[0mpy_any\u001b[0m\u001b[0;34m(\u001b[0m\u001b[0mis_tensor\u001b[0m\u001b[0;34m(\u001b[0m\u001b[0mx\u001b[0m\u001b[0;34m)\u001b[0m \u001b[0;32mfor\u001b[0m \u001b[0mx\u001b[0m \u001b[0;32min\u001b[0m \u001b[0minputs\u001b[0m\u001b[0;34m)\u001b[0m\u001b[0;34m:\u001b[0m\u001b[0;34m\u001b[0m\u001b[0;34m\u001b[0m\u001b[0m\n",
      "\u001b[0;32m/cvmfs/sft.cern.ch/lcg/views/LCG_100cuda/x86_64-centos7-gcc8-opt/lib/python3.7/site-packages/keras/backend/tensorflow_backend.py\u001b[0m in \u001b[0;36mget_session\u001b[0;34m()\u001b[0m\n\u001b[1;32m    172\u001b[0m     \u001b[0;32mglobal\u001b[0m \u001b[0m_SESSION\u001b[0m\u001b[0;34m\u001b[0m\u001b[0;34m\u001b[0m\u001b[0m\n\u001b[1;32m    173\u001b[0m \u001b[0;34m\u001b[0m\u001b[0m\n\u001b[0;32m--> 174\u001b[0;31m     \u001b[0mdefault_session\u001b[0m \u001b[0;34m=\u001b[0m \u001b[0mtf\u001b[0m\u001b[0;34m.\u001b[0m\u001b[0mget_default_session\u001b[0m\u001b[0;34m(\u001b[0m\u001b[0;34m)\u001b[0m\u001b[0;34m\u001b[0m\u001b[0;34m\u001b[0m\u001b[0m\n\u001b[0m\u001b[1;32m    175\u001b[0m \u001b[0;34m\u001b[0m\u001b[0m\n\u001b[1;32m    176\u001b[0m     \u001b[0;32mif\u001b[0m \u001b[0mdefault_session\u001b[0m \u001b[0;32mis\u001b[0m \u001b[0;32mnot\u001b[0m \u001b[0;32mNone\u001b[0m\u001b[0;34m:\u001b[0m\u001b[0;34m\u001b[0m\u001b[0;34m\u001b[0m\u001b[0m\n",
      "\u001b[0;31mAttributeError\u001b[0m: module 'tensorflow' has no attribute 'get_default_session'"
     ]
    }
   ],
   "source": [
    "from keras import backend as K\n",
    "\n",
    "# with a Sequential model\n",
    "get_3rd_layer_output = K.function([vae.encoder.layers[0].input],\n",
    "                                  [vae.encoder.layers[2].output])\n",
    "layer_output = get_3rd_layer_output([train_ds])[0] ## pass as input image"
   ]
  },
  {
   "cell_type": "code",
   "execution_count": null,
   "metadata": {},
   "outputs": [],
   "source": []
  },
  {
   "cell_type": "code",
   "execution_count": 11,
   "metadata": {},
   "outputs": [],
   "source": [
    "\n",
    "\n",
    "#_,_,vae = VAE_ParticleNet.load(path=os.path.join(saved_path, 'best_so_far'))\n",
    "\n",
    "\n",
    "reco_bg, loss_bg_reco, loss_bg_kl = tra.predict_particle_net(vae.model, loss_fn, train_ds)\n",
    "#reco_bg, loss_bg_reco, loss_bg_kl = tra.predict_particle_net(vae, loss_fn, batched_dataset)\n",
    "\n",
    "particles_sig_dict['reco'] = {}\n",
    "particles_sig_dict['loss'] = {}\n",
    "particles_sig_dict['loss_kl'] = {}\n",
    "for sig in sig_types:\n",
    "    reco_sig, loss_sig_reco, loss_sig_kl = tra.predict_particle_net(vae.model, loss_fn, particles_sig_dict['ds'][sig])\n",
    "    #reco_sig, loss_sig_reco, loss_sig_kl = tra.predict_particle_net(vae, loss_fn, particles_sig_dict['ds'][sig])\n",
    "    particles_sig_dict['reco'][sig] = reco_sig\n",
    "    particles_sig_dict['loss'][sig] = loss_sig_reco\n",
    "    particles_sig_dict['loss_kl'][sig] = loss_sig_kl"
   ]
  },
  {
   "cell_type": "code",
   "execution_count": 12,
   "metadata": {},
   "outputs": [
    {
     "data": {
      "image/png": "[encoded data removed]",
      "text/plain": [
       "<Figure size 576x504 with 1 Axes>"
      ]
     },
     "metadata": {
      "needs_background": "light"
     },
     "output_type": "display_data"
    }
   ],
   "source": [
    "import matplotlib.pyplot as plt\n",
    "plt.style.use('/eos/user/n/nchernya/MLHEP/AnomalyDetection/ADgvae/utils/adfigstyle.mplstyle')\n",
    "\n",
    "for loss in [loss_bg_reco ]:\n",
    "    max_score = 1.2*np.quantile(loss,0.99)\n",
    "    min_score = np.min(loss)#,np.max(loss_bg_dist))\n",
    "    bins = 30\n",
    "    # plot BG\n",
    "    plt.figure()\n",
    "    plt.hist(loss, bins=bins, label='BG', density=True, range=(min_score, max_score), \n",
    "         histtype='step', fill=False, linewidth=2.3)\n",
    "    for sig in sig_types:\n",
    "        plt.hist(particles_sig_dict['loss'][sig], bins=bins, label=sig, density=True, range=(min_score, max_score), \n",
    "         histtype='step', linestyle='--',fill=False, linewidth=2.3)\n",
    "    #plt.semilogy()\n",
    "    plt.xlabel(\"reco Loss\")\n",
    "    plt.ylabel(\"Normalized Dist.\")\n",
    "    plt.legend(bbox_to_anchor=(1., 1.),fontsize=15)\n",
    "    plt.show()"
   ]
  },
  {
   "cell_type": "code",
   "execution_count": 13,
   "metadata": {},
   "outputs": [
    {
     "data": {
      "image/png": "[encoded data removed]",
      "text/plain": [
       "<Figure size 576x504 with 1 Axes>"
      ]
     },
     "metadata": {
      "needs_background": "light"
     },
     "output_type": "display_data"
    }
   ],
   "source": [
    "import matplotlib.pyplot as plt\n",
    "plt.style.use('/eos/user/n/nchernya/MLHEP/AnomalyDetection/ADgvae/utils/adfigstyle.mplstyle')\n",
    "\n",
    "for loss in [loss_bg_kl ]:\n",
    "    max_score = 1.1*np.quantile(loss,0.99)\n",
    "    min_score = np.min(loss)#,np.max(loss_bg_dist))\n",
    "    bins = 30\n",
    "    # plot BG\n",
    "    plt.figure()\n",
    "    plt.hist(loss, bins=bins, label='BG', density=True, range=(min_score, max_score), \n",
    "         histtype='step', fill=False, linewidth=2.3)\n",
    "    for sig in sig_types:\n",
    "        plt.hist(particles_sig_dict['loss_kl'][sig], bins=bins, label=sig, density=True, range=(min_score, max_score), \n",
    "         histtype='step', linestyle='--',fill=False, linewidth=2.3)\n",
    "    #plt.semilogy()\n",
    "    plt.xlabel(\"kl Loss\")\n",
    "    plt.ylabel(\"Normalized Dist.\")\n",
    "    plt.legend(bbox_to_anchor=(1., 1.),fontsize=15)\n",
    "    plt.show()"
   ]
  },
  {
   "cell_type": "code",
   "execution_count": 14,
   "metadata": {},
   "outputs": [
    {
     "data": {
      "image/png": "[encoded data removed]",
      "text/plain": [
       "<Figure size 576x504 with 1 Axes>"
      ]
     },
     "metadata": {
      "needs_background": "light"
     },
     "output_type": "display_data"
    }
   ],
   "source": [
    "import matplotlib.pyplot as plt\n",
    "plt.style.use('/eos/user/n/nchernya/MLHEP/AnomalyDetection/ADgvae/utils/adfigstyle.mplstyle')\n",
    "\n",
    "loss =loss_bg_reco+(beta*loss_bg_kl)\n",
    "max_score = 1.1*np.quantile(loss,0.99)\n",
    "min_score = np.min(loss)\n",
    "bins = 30\n",
    "# plot BG\n",
    "plt.figure()\n",
    "plt.hist(loss, bins=bins, label='BG', density=True, range=(min_score, max_score), \n",
    "        histtype='step', fill=False, linewidth=2.3)\n",
    "for sig in sig_types:\n",
    "    plt.hist(particles_sig_dict['loss'][sig]+(beta*particles_sig_dict['loss_kl'][sig]), bins=bins, label=sig, density=True, range=(min_score, max_score), \n",
    "        histtype='step', linestyle='--',fill=False, linewidth=2.3)\n",
    "#plt.semilogy()\n",
    "plt.xlabel(\"reco + beta*kl Loss\")\n",
    "plt.ylabel(\"Normalized Dist.\")\n",
    "plt.legend(bbox_to_anchor=(1., 1.),fontsize=15)\n",
    "plt.show()"
   ]
  },
  {
   "cell_type": "code",
   "execution_count": 15,
   "metadata": {},
   "outputs": [],
   "source": [
    "import vande.analysis.analysis_roc as ar"
   ]
  },
  {
   "cell_type": "code",
   "execution_count": null,
   "metadata": {},
   "outputs": [],
   "source": []
  },
  {
   "cell_type": "code",
   "execution_count": 16,
   "metadata": {},
   "outputs": [
    {
     "name": "stderr",
     "output_type": "stream",
     "text": [
      "/eos/home-n/nchernya/MLHEP/AnomalyDetection/vande/analysis/analysis_roc.py:33: RuntimeWarning: divide by zero encountered in true_divide\n",
      "  plt.semilogy(tpr, 1./fpr, label=label + \" (auc \" + \"{0:.3f}\".format(aucs[-1]) + \")\")\n",
      "/eos/home-n/nchernya/MLHEP/AnomalyDetection/vande/analysis/analysis_roc.py:33: RuntimeWarning: divide by zero encountered in true_divide\n",
      "  plt.semilogy(tpr, 1./fpr, label=label + \" (auc \" + \"{0:.3f}\".format(aucs[-1]) + \")\")\n",
      "/eos/home-n/nchernya/MLHEP/AnomalyDetection/vande/analysis/analysis_roc.py:33: RuntimeWarning: divide by zero encountered in true_divide\n",
      "  plt.semilogy(tpr, 1./fpr, label=label + \" (auc \" + \"{0:.3f}\".format(aucs[-1]) + \")\")\n",
      "/eos/home-n/nchernya/MLHEP/AnomalyDetection/vande/analysis/analysis_roc.py:33: RuntimeWarning: divide by zero encountered in true_divide\n",
      "  plt.semilogy(tpr, 1./fpr, label=label + \" (auc \" + \"{0:.3f}\".format(aucs[-1]) + \")\")\n"
     ]
    },
    {
     "data": {
      "text/plain": [
       "[0.6397549042924546,\n",
       " 0.6376028648557885,\n",
       " 0.6283726098686819,\n",
       " 0.6106562005140723]"
      ]
     },
     "execution_count": 16,
     "metadata": {},
     "output_type": "execute_result"
    }
   ],
   "source": [
    "neg_class_losses = [loss_bg_reco]*len(sig_types)\n",
    "pos_class_losses = []\n",
    "for sig in sig_types:\n",
    "    pos_class_losses.append(particles_sig_dict['loss'][sig])\n",
    "\n",
    "plt.style.use('/eos/user/n/nchernya/MLHEP/AnomalyDetection/ADgvae/utils/adfigstyle.mplstyle')\n",
    "ar.plot_roc( neg_class_losses, pos_class_losses, legend=[sig.replace('Graviton','') for sig in sig_types], title='ROC ',\n",
    "            plot_name='test', fig_dir='/eos/user/n/nchernya/MLHEP/AnomalyDetection/ADgvae/figs/',log_x=False )\n"
   ]
  },
  {
   "cell_type": "code",
   "execution_count": 17,
   "metadata": {},
   "outputs": [
    {
     "name": "stderr",
     "output_type": "stream",
     "text": [
      "/eos/home-n/nchernya/MLHEP/AnomalyDetection/vande/analysis/analysis_roc.py:33: RuntimeWarning: divide by zero encountered in true_divide\n",
      "  plt.semilogy(tpr, 1./fpr, label=label + \" (auc \" + \"{0:.3f}\".format(aucs[-1]) + \")\")\n",
      "/eos/home-n/nchernya/MLHEP/AnomalyDetection/vande/analysis/analysis_roc.py:33: RuntimeWarning: divide by zero encountered in true_divide\n",
      "  plt.semilogy(tpr, 1./fpr, label=label + \" (auc \" + \"{0:.3f}\".format(aucs[-1]) + \")\")\n",
      "/eos/home-n/nchernya/MLHEP/AnomalyDetection/vande/analysis/analysis_roc.py:33: RuntimeWarning: divide by zero encountered in true_divide\n",
      "  plt.semilogy(tpr, 1./fpr, label=label + \" (auc \" + \"{0:.3f}\".format(aucs[-1]) + \")\")\n",
      "/eos/home-n/nchernya/MLHEP/AnomalyDetection/vande/analysis/analysis_roc.py:33: RuntimeWarning: divide by zero encountered in true_divide\n",
      "  plt.semilogy(tpr, 1./fpr, label=label + \" (auc \" + \"{0:.3f}\".format(aucs[-1]) + \")\")\n"
     ]
    },
    {
     "data": {
      "text/plain": [
       "[0.6096454626823686,\n",
       " 0.6151049159788688,\n",
       " 0.5985032171033283,\n",
       " 0.5894321424419731]"
      ]
     },
     "execution_count": 17,
     "metadata": {},
     "output_type": "execute_result"
    }
   ],
   "source": [
    "beta= vae.beta\n",
    "neg_class_losses = [loss_bg_reco+(beta*loss_bg_kl)]*len(sig_types)\n",
    "pos_class_losses = []\n",
    "for sig in sig_types:\n",
    "    pos_class_losses.append(particles_sig_dict['loss'][sig]+(beta*particles_sig_dict['loss_kl'][sig]))\n",
    "\n",
    "plt.style.use('/eos/user/n/nchernya/MLHEP/AnomalyDetection/ADgvae/utils/adfigstyle.mplstyle')\n",
    "ar.plot_roc( neg_class_losses, pos_class_losses, legend=[sig.replace('Graviton','') for sig in sig_types], title='ROC ',\n",
    "            plot_name='test', fig_dir='/eos/user/n/nchernya/MLHEP/AnomalyDetection/ADgvae/figs/',log_x=False )\n"
   ]
  },
  {
   "cell_type": "code",
   "execution_count": 18,
   "metadata": {},
   "outputs": [
    {
     "name": "stderr",
     "output_type": "stream",
     "text": [
      "/eos/home-n/nchernya/MLHEP/AnomalyDetection/vande/analysis/analysis_roc.py:33: RuntimeWarning: divide by zero encountered in true_divide\n",
      "  plt.semilogy(tpr, 1./fpr, label=label + \" (auc \" + \"{0:.3f}\".format(aucs[-1]) + \")\")\n",
      "/eos/home-n/nchernya/MLHEP/AnomalyDetection/vande/analysis/analysis_roc.py:33: RuntimeWarning: divide by zero encountered in true_divide\n",
      "  plt.semilogy(tpr, 1./fpr, label=label + \" (auc \" + \"{0:.3f}\".format(aucs[-1]) + \")\")\n",
      "/eos/home-n/nchernya/MLHEP/AnomalyDetection/vande/analysis/analysis_roc.py:33: RuntimeWarning: divide by zero encountered in true_divide\n",
      "  plt.semilogy(tpr, 1./fpr, label=label + \" (auc \" + \"{0:.3f}\".format(aucs[-1]) + \")\")\n",
      "/eos/home-n/nchernya/MLHEP/AnomalyDetection/vande/analysis/analysis_roc.py:33: RuntimeWarning: divide by zero encountered in true_divide\n",
      "  plt.semilogy(tpr, 1./fpr, label=label + \" (auc \" + \"{0:.3f}\".format(aucs[-1]) + \")\")\n"
     ]
    },
    {
     "data": {
      "text/plain": [
       "[0.4048384965540169,\n",
       " 0.4414784257501195,\n",
       " 0.40938010919738643,\n",
       " 0.4452598351868356]"
      ]
     },
     "execution_count": 18,
     "metadata": {},
     "output_type": "execute_result"
    }
   ],
   "source": [
    "beta= vae.beta\n",
    "neg_class_losses = [(beta*loss_bg_kl)]*len(sig_types)\n",
    "pos_class_losses = []\n",
    "for sig in sig_types:\n",
    "    pos_class_losses.append((beta*particles_sig_dict['loss_kl'][sig]))\n",
    "\n",
    "plt.style.use('/eos/user/n/nchernya/MLHEP/AnomalyDetection/ADgvae/utils/adfigstyle.mplstyle')\n",
    "ar.plot_roc( neg_class_losses, pos_class_losses, legend=[sig.replace('Graviton','') for sig in sig_types], title='ROC ',\n",
    "            plot_name='test', fig_dir='/eos/user/n/nchernya/MLHEP/AnomalyDetection/ADgvae/figs/',log_x=False )\n"
   ]
  },
  {
   "cell_type": "code",
   "execution_count": null,
   "metadata": {},
   "outputs": [],
   "source": []
  },
  {
   "cell_type": "code",
   "execution_count": 19,
   "metadata": {},
   "outputs": [],
   "source": [
    "#data_train_generator_2 = dage_pn.DataGenerator(path=paths.sample_dir_path('qcdSide'), \n",
    "#                                         sample_part_n=params.gen_part_n, \n",
    "#                                          sample_max_n=params.train_total_n, \n",
    "#                                          **cuts.global_cuts) # generate 10 M jet samples\n",
    "\n",
    "\n",
    "\n"
   ]
  },
  {
   "cell_type": "code",
   "execution_count": null,
   "metadata": {},
   "outputs": [],
   "source": []
  },
  {
   "cell_type": "code",
   "execution_count": 19,
   "metadata": {},
   "outputs": [
    {
     "ename": "NameError",
     "evalue": "name 'data_train_generator_2' is not defined",
     "output_type": "error",
     "traceback": [
      "\u001b[0;31m---------------------------------------------------------------------------\u001b[0m",
      "\u001b[0;31mNameError\u001b[0m                                 Traceback (most recent call last)",
      "\u001b[0;32m<ipython-input-19-fa1ab53d4d22>\u001b[0m in \u001b[0;36m<module>\u001b[0;34m\u001b[0m\n\u001b[1;32m      8\u001b[0m \u001b[0;34m\u001b[0m\u001b[0m\n\u001b[1;32m      9\u001b[0m \u001b[0;34m\u001b[0m\u001b[0m\n\u001b[0;32m---> 10\u001b[0;31m train_ds_2 = tf.data.Dataset.from_generator(data_train_generator_2, \n\u001b[0m\u001b[1;32m     11\u001b[0m                                           output_types=(tf.float32,tf.float32)).batch(params.batch_n, drop_remainder=True) # already shuffled\n",
      "\u001b[0;31mNameError\u001b[0m: name 'data_train_generator_2' is not defined"
     ]
    }
   ],
   "source": [
    "#train_ds = tf.data.Dataset.from_generator(data_train_generator,\n",
    "#                                     (tf.float32, tf.float32),\n",
    "#                                     (tf.TensorShape([100,2]), tf.TensorShape([100,3]))\n",
    "#                                         ).batch(params.batch_n, drop_remainder=True) # already shuffled\n",
    "\n",
    "#train_ds_2 = tf.data.Dataset.from_generator(data_train_generator_2, \n",
    " #                                         output_types=(tf.float32,tf.float32)).batch(params.batch_n, drop_remainder=True) # already shuffled\n",
    "\n",
    "\n",
    "train_ds_2 = tf.data.Dataset.from_generator(data_train_generator_2, \n",
    "                                          output_types=(tf.float32,tf.float32)).batch(params.batch_n, drop_remainder=True) # already shuffled\n"
   ]
  },
  {
   "cell_type": "code",
   "execution_count": 13,
   "metadata": {},
   "outputs": [
    {
     "data": {
      "text/plain": [
       "<TakeDataset shapes: (<unknown>, <unknown>), types: (tf.float32, tf.float32)>"
      ]
     },
     "execution_count": 13,
     "metadata": {},
     "output_type": "execute_result"
    }
   ],
   "source": [
    "train_ds_2.take(1)"
   ]
  },
  {
   "cell_type": "code",
   "execution_count": null,
   "metadata": {},
   "outputs": [],
   "source": []
  },
  {
   "cell_type": "code",
   "execution_count": 29,
   "metadata": {},
   "outputs": [
    {
     "name": "stdout",
     "output_type": "stream",
     "text": [
      "path =  /eos/project/d/dshep/TOPCLASS/DijetAnomaly/VAE_data/events/qcd_sqrtshatTeV_13TeV_PU40_NEW_sideband_parts\n"
     ]
    },
    {
     "name": "stderr",
     "output_type": "stream",
     "text": [
      "/eos/home-n/nchernya/MLHEP/AnomalyDetection/vande/util/data_generator_particlenet.py:7: RuntimeWarning: divide by zero encountered in log\n",
      "  return np.where(x==0,-10,np.log(x))\n"
     ]
    },
    {
     "ename": "AttributeError",
     "evalue": "'tuple' object has no attribute 'shape'",
     "output_type": "error",
     "traceback": [
      "\u001b[0;31m---------------------------------------------------------------------------\u001b[0m",
      "\u001b[0;31mAttributeError\u001b[0m                            Traceback (most recent call last)",
      "\u001b[0;32m<ipython-input-29-8acb57b3ee75>\u001b[0m in \u001b[0;36m<module>\u001b[0;34m\u001b[0m\n\u001b[1;32m      1\u001b[0m \u001b[0;31m#new = train_ds_2.prefetch(buffer_size = tf.data.experimental.AUTOTUNE)\u001b[0m\u001b[0;34m\u001b[0m\u001b[0;34m\u001b[0m\u001b[0;34m\u001b[0m\u001b[0m\n\u001b[1;32m      2\u001b[0m \u001b[0;32mfor\u001b[0m \u001b[0mdata\u001b[0m \u001b[0;32min\u001b[0m \u001b[0mtrain_ds_2\u001b[0m\u001b[0;34m.\u001b[0m\u001b[0mtake\u001b[0m\u001b[0;34m(\u001b[0m\u001b[0;36m2\u001b[0m\u001b[0;34m)\u001b[0m\u001b[0;34m:\u001b[0m\u001b[0;34m\u001b[0m\u001b[0;34m\u001b[0m\u001b[0m\n\u001b[0;32m----> 3\u001b[0;31m     \u001b[0mprint\u001b[0m\u001b[0;34m(\u001b[0m\u001b[0mdata\u001b[0m\u001b[0;34m.\u001b[0m\u001b[0mshape\u001b[0m\u001b[0;34m)\u001b[0m\u001b[0;34m\u001b[0m\u001b[0;34m\u001b[0m\u001b[0m\n\u001b[0m\u001b[1;32m      4\u001b[0m     \u001b[0;32mbreak\u001b[0m\u001b[0;34m\u001b[0m\u001b[0;34m\u001b[0m\u001b[0m\n",
      "\u001b[0;31mAttributeError\u001b[0m: 'tuple' object has no attribute 'shape'"
     ]
    }
   ],
   "source": [
    "#new = train_ds_2.prefetch(buffer_size = tf.data.experimental.AUTOTUNE)\n",
    "for data in train_ds_2.take(2):\n",
    "    print(data)\n",
    "    break"
   ]
  },
  {
   "cell_type": "code",
   "execution_count": 34,
   "metadata": {},
   "outputs": [],
   "source": [
    "data_train_generator = dage.DataGenerator(path=paths.sample_dir_path('qcdSide'),\n",
    "                                          sample_part_n=params.gen_part_n, \n",
    "                                          sample_max_n=params.train_total_n, \n",
    "                                          **cuts.global_cuts) # generate 10 M jet samples\n",
    "train_ds = tf.data.Dataset.from_generator(data_train_generator, \n",
    "                                          output_types=tf.float32, \n",
    "                                          output_shapes=(100,3)).batch(params.batch_n, drop_remainder=True) # already shuffled\n"
   ]
  },
  {
   "cell_type": "code",
   "execution_count": 36,
   "metadata": {},
   "outputs": [],
   "source": [
    "beta= vae.beta\n"
   ]
  },
  {
   "cell_type": "code",
   "execution_count": null,
   "metadata": {},
   "outputs": [],
   "source": []
  },
  {
   "cell_type": "code",
   "execution_count": 11,
   "metadata": {},
   "outputs": [],
   "source": [
    "generator = dare.DataReader(paths.sample_dir_path('qcdSide')).generate_event_parts_from_dir(parts_n=256, **cuts.global_cuts)"
   ]
  },
  {
   "cell_type": "code",
   "execution_count": 12,
   "metadata": {},
   "outputs": [
    {
     "name": "stdout",
     "output_type": "stream",
     "text": [
      "(256, 11)\n"
     ]
    }
   ],
   "source": [
    "for constituents, features in generator:\n",
    "    print(features.shape)\n",
    "    break"
   ]
  },
  {
   "cell_type": "code",
   "execution_count": 17,
   "metadata": {},
   "outputs": [],
   "source": [
    "def our_generator():\n",
    "    for i in range(1000):\n",
    "      x = np.random.rand(28,28)\n",
    "      y = np.random.randint(1,10, size=1)\n",
    "      yield x,y"
   ]
  },
  {
   "cell_type": "code",
   "execution_count": 18,
   "metadata": {},
   "outputs": [],
   "source": [
    "dataset = tf.data.Dataset.from_generator(our_generator, (tf.float32, tf.int16))\n"
   ]
  },
  {
   "cell_type": "code",
   "execution_count": 21,
   "metadata": {},
   "outputs": [],
   "source": [
    "dataset = tf.data.Dataset.from_generator(our_generator, (tf.float32, tf.int16))\n"
   ]
  },
  {
   "cell_type": "code",
   "execution_count": 23,
   "metadata": {},
   "outputs": [
    {
     "name": "stdout",
     "output_type": "stream",
     "text": [
      "batch:  199\n",
      "Data shape:  (10, 28, 28) (10, 1)\n"
     ]
    }
   ],
   "source": [
    "dataset = tf.data.Dataset.from_generator(our_generator, (tf.float32, tf.int16))\n",
    "dataset = dataset.batch(batch_size=10)\n",
    "dataset = dataset.repeat(count=2)\n",
    "\n",
    "for batch, (x,y) in enumerate(dataset):\n",
    "  pass\n",
    "print(\"batch: \", batch)\n",
    "print(\"Data shape: \", x.shape, y.shape)"
   ]
  },
  {
   "cell_type": "code",
   "execution_count": 25,
   "metadata": {},
   "outputs": [
    {
     "ename": "SyntaxError",
     "evalue": "invalid syntax (<ipython-input-25-623889bf5d6e>, line 29)",
     "output_type": "error",
     "traceback": [
      "\u001b[0;36m  File \u001b[0;32m\"<ipython-input-25-623889bf5d6e>\"\u001b[0;36m, line \u001b[0;32m29\u001b[0m\n\u001b[0;31m    X = # logic\u001b[0m\n\u001b[0m               ^\u001b[0m\n\u001b[0;31mSyntaxError\u001b[0m\u001b[0;31m:\u001b[0m invalid syntax\n"
     ]
    }
   ],
   "source": [
    "\n",
    "class DataGenerator(tf.keras.utils.Sequence):\n",
    "    def __init__(self, df, x_col, y_col=None, batch_size=32, num_classes=None, shuffle=True):\n",
    "        self.batch_size = batch_size\n",
    "        self.df = dataframe\n",
    "        self.indices = self.df.index.tolist()\n",
    "        self.num_classes = num_classes\n",
    "        self.shuffle = shuffle\n",
    "        self.x_col = x_col\n",
    "        self.y_col = y_col\n",
    "        self.on_epoch_end()\n",
    "\n",
    "    def __len__(self):\n",
    "        return len(self.indices) // self.batch_size\n",
    "\n",
    "    def __getitem__(self, index):\n",
    "        index = self.index[index * self.batch_size:(index + 1) * self.batch_size]\n",
    "        batch = [self.indices[k] for k in index]\n",
    "        \n",
    "        X, y = self.__get_data(batch)\n",
    "        return X, y\n",
    "\n",
    "    def on_epoch_end(self):\n",
    "        self.index = np.arange(len(self.indices))\n",
    "        if self.shuffle == True:\n",
    "            np.random.shuffle(self.index)\n",
    "\n",
    "    def __get_data(self, batch):\n",
    "        X = # logic\n",
    "        y = # logic\n",
    "        \n",
    "        for i, id in enumerate(batch):\n",
    "            X[i,] = # logic\n",
    "            y[i] = # labels\n",
    "\n",
    "        return X, y"
   ]
  },
  {
   "cell_type": "code",
   "execution_count": 6,
   "metadata": {},
   "outputs": [
    {
     "data": {
      "text/plain": [
       "<module 'util.prepare_input' from '/eos/home-n/nchernya/MLHEP/AnomalyDetection/vande/util/prepare_input.py'>"
      ]
     },
     "execution_count": 6,
     "metadata": {},
     "output_type": "execute_result"
    }
   ],
   "source": [
    "import util.prepare_input as inp_prep\n",
    "reload(inp_prep)"
   ]
  },
  {
   "cell_type": "code",
   "execution_count": 7,
   "metadata": {},
   "outputs": [],
   "source": [
    "preparator = inp_prep.ParticleInputConversion(path=paths.sample_dir_path('qcdSide'),\n",
    "                                          sample_part_n=params.gen_part_n, \n",
    "                                          outdir = '/eos/user/n/nchernya/MLHEP/AnomalyDetection/autoencoder_for_anomaly/graph_based/',\n",
    "                                          outname = 'test',\n",
    "                                          **cuts.global_cuts)"
   ]
  },
  {
   "cell_type": "code",
   "execution_count": null,
   "metadata": {},
   "outputs": [
    {
     "name": "stdout",
     "output_type": "stream",
     "text": [
      "path =  /eos/project/d/dshep/TOPCLASS/DijetAnomaly/VAE_data/events/qcd_sqrtshatTeV_13TeV_PU40_NEW_sideband_parts\n"
     ]
    },
    {
     "name": "stderr",
     "output_type": "stream",
     "text": [
      "/eos/home-n/nchernya/MLHEP/AnomalyDetection/vande/util/prepare_input.py:12: RuntimeWarning: divide by zero encountered in log\n",
      "  return np.where(x==0,-10,np.log(x))\n"
     ]
    },
    {
     "name": "stdout",
     "output_type": "stream",
     "text": [
      "Writing 99995 jets\n",
      "Writing file /eos/user/n/nchernya/MLHEP/AnomalyDetection/autoencoder_for_anomaly/graph_based//test_0.h5 \n",
      "Writing 99995 jets\n",
      "Writing file /eos/user/n/nchernya/MLHEP/AnomalyDetection/autoencoder_for_anomaly/graph_based//test_1.h5 \n",
      "Writing 99995 jets\n",
      "Writing file /eos/user/n/nchernya/MLHEP/AnomalyDetection/autoencoder_for_anomaly/graph_based//test_2.h5 \n",
      "Writing 99995 jets\n",
      "Writing file /eos/user/n/nchernya/MLHEP/AnomalyDetection/autoencoder_for_anomaly/graph_based//test_3.h5 \n",
      "Writing 99992 jets\n",
      "Writing file /eos/user/n/nchernya/MLHEP/AnomalyDetection/autoencoder_for_anomaly/graph_based//test_4.h5 \n",
      "Writing 99996 jets\n",
      "Writing file /eos/user/n/nchernya/MLHEP/AnomalyDetection/autoencoder_for_anomaly/graph_based//test_5.h5 \n",
      "Writing 99995 jets\n",
      "Writing file /eos/user/n/nchernya/MLHEP/AnomalyDetection/autoencoder_for_anomaly/graph_based//test_6.h5 \n",
      "Writing 99996 jets\n",
      "Writing file /eos/user/n/nchernya/MLHEP/AnomalyDetection/autoencoder_for_anomaly/graph_based//test_7.h5 \n",
      "Writing 99995 jets\n",
      "Writing file /eos/user/n/nchernya/MLHEP/AnomalyDetection/autoencoder_for_anomaly/graph_based//test_8.h5 \n",
      "Writing 99998 jets\n",
      "Writing file /eos/user/n/nchernya/MLHEP/AnomalyDetection/autoencoder_for_anomaly/graph_based//test_9.h5 \n",
      "Writing 99990 jets\n",
      "Writing file /eos/user/n/nchernya/MLHEP/AnomalyDetection/autoencoder_for_anomaly/graph_based//test_10.h5 \n",
      "Writing 99995 jets\n",
      "Writing file /eos/user/n/nchernya/MLHEP/AnomalyDetection/autoencoder_for_anomaly/graph_based//test_11.h5 \n",
      "Writing 99995 jets\n",
      "Writing file /eos/user/n/nchernya/MLHEP/AnomalyDetection/autoencoder_for_anomaly/graph_based//test_12.h5 \n",
      "Writing 99992 jets\n",
      "Writing file /eos/user/n/nchernya/MLHEP/AnomalyDetection/autoencoder_for_anomaly/graph_based//test_13.h5 \n",
      "Writing 99995 jets\n",
      "Writing file /eos/user/n/nchernya/MLHEP/AnomalyDetection/autoencoder_for_anomaly/graph_based//test_14.h5 \n",
      "Writing 99997 jets\n",
      "Writing file /eos/user/n/nchernya/MLHEP/AnomalyDetection/autoencoder_for_anomaly/graph_based//test_15.h5 \n",
      "Writing 99992 jets\n",
      "Writing file /eos/user/n/nchernya/MLHEP/AnomalyDetection/autoencoder_for_anomaly/graph_based//test_16.h5 \n"
     ]
    }
   ],
   "source": [
    "preparator.input_prep()"
   ]
  },
  {
   "cell_type": "code",
   "execution_count": 40,
   "metadata": {},
   "outputs": [
    {
     "data": {
      "text/plain": [
       "500000.0"
      ]
     },
     "execution_count": 40,
     "metadata": {},
     "output_type": "execute_result"
    }
   ],
   "source": []
  },
  {
   "cell_type": "code",
   "execution_count": null,
   "metadata": {},
   "outputs": [
    {
     "name": "stdout",
     "output_type": "stream",
     "text": [
      "path =  /eos/project/d/dshep/TOPCLASS/DijetAnomaly/VAE_data/events/qcd_sqrtshatTeV_13TeV_PU40_NEW_sideband_parts\n"
     ]
    }
   ],
   "source": [
    "for i in data_train_generator_new():\n",
    "    print(i)\n",
    "    break"
   ]
  },
  {
   "cell_type": "code",
   "execution_count": null,
   "metadata": {},
   "outputs": [],
   "source": [
    "print('d')"
   ]
  },
  {
   "cell_type": "code",
   "execution_count": 12,
   "metadata": {},
   "outputs": [],
   "source": [
    "import sarewt.data_reader as dare\n"
   ]
  },
  {
   "cell_type": "code",
   "execution_count": 19,
   "metadata": {},
   "outputs": [],
   "source": [
    "sys.path.append(os.path.abspath(os.path.join('..')))\n",
    "sys.path.append(os.path.abspath(os.path.join('../../')))\n",
    "sys.path.append(os.path.abspath(os.path.join('../../sarewt_orig/')))\n",
    "import sarewt_orig.sarewt.data_reader_test as dare_test\n"
   ]
  },
  {
   "cell_type": "code",
   "execution_count": 21,
   "metadata": {},
   "outputs": [
    {
     "name": "stdout",
     "output_type": "stream",
     "text": [
      "path =  /eos/project/d/dshep/TOPCLASS/DijetAnomaly/VAE_data/events/qcd_sqrtshatTeV_13TeV_PU40_NEW_sideband_parts\n",
      "nb 15, last_batch 0, num_to_process 1500\n",
      "(<tf.Tensor: shape=(100, 100, 2), dtype=float32, numpy=\n",
      "array([[[0.357162  , 0.46255153],\n",
      "        [0.36150497, 0.4663536 ],\n",
      "        [0.37547597, 0.46752658],\n",
      "        ...,\n",
      "        [0.49997225, 0.49997228],\n",
      "        [0.49997225, 0.49997228],\n",
      "        [0.49997225, 0.49997228]],\n",
      "\n",
      "       [[0.57437885, 0.59185755],\n",
      "        [0.42334905, 0.40506032],\n",
      "        [0.4143897 , 0.50325876],\n",
      "        ...,\n",
      "        [0.5095001 , 0.29539633],\n",
      "        [0.64263713, 0.5001461 ],\n",
      "        [0.40599188, 0.30361187]],\n",
      "\n",
      "       [[0.4587013 , 0.44347426],\n",
      "        [0.4587013 , 0.44347426],\n",
      "        [0.45380005, 0.43434384],\n",
      "        ...,\n",
      "        [0.49997225, 0.49997228],\n",
      "        [0.49997225, 0.49997228],\n",
      "        [0.49997225, 0.49997228]],\n",
      "\n",
      "       ...,\n",
      "\n",
      "       [[0.4617828 , 0.5157748 ],\n",
      "        [0.506907  , 0.508686  ],\n",
      "        [0.5055718 , 0.5074476 ],\n",
      "        ...,\n",
      "        [0.49997225, 0.49997228],\n",
      "        [0.49997225, 0.49997228],\n",
      "        [0.49997225, 0.49997228]],\n",
      "\n",
      "       [[0.557715  , 0.6362241 ],\n",
      "        [0.4944688 , 0.35338932],\n",
      "        [0.56625706, 0.6334934 ],\n",
      "        ...,\n",
      "        [0.7178255 , 0.17760247],\n",
      "        [0.65652716, 0.94572145],\n",
      "        [0.9606002 , 0.5660961 ]],\n",
      "\n",
      "       [[0.5479471 , 0.48909825],\n",
      "        [0.47729364, 0.4895951 ],\n",
      "        [0.54885256, 0.48592177],\n",
      "        ...,\n",
      "        [0.7035468 , 0.6824751 ],\n",
      "        [0.44819397, 0.3484236 ],\n",
      "        [0.5656179 , 0.8089804 ]]], dtype=float32)>, <tf.Tensor: shape=(100, 100, 3), dtype=float32, numpy=\n",
      "array([[[0.357162  , 0.46255153, 0.8513985 ],\n",
      "        [0.36150497, 0.4663536 , 0.8484512 ],\n",
      "        [0.37547597, 0.46752658, 0.7422613 ],\n",
      "        ...,\n",
      "        [0.49997225, 0.49997228, 0.        ],\n",
      "        [0.49997225, 0.49997228, 0.        ],\n",
      "        [0.49997225, 0.49997228, 0.        ]],\n",
      "\n",
      "       [[0.57437885, 0.59185755, 0.8166703 ],\n",
      "        [0.42334905, 0.40506032, 0.78507596],\n",
      "        [0.4143897 , 0.50325876, 0.7787203 ],\n",
      "        ...,\n",
      "        [0.5095001 , 0.29539633, 0.31002   ],\n",
      "        [0.64263713, 0.5001461 , 0.30652255],\n",
      "        [0.40599188, 0.30361187, 0.30594727]],\n",
      "\n",
      "       [[0.4587013 , 0.44347426, 0.86668926],\n",
      "        [0.4587013 , 0.44347426, 0.783563  ],\n",
      "        [0.45380005, 0.43434384, 0.78315395],\n",
      "        ...,\n",
      "        [0.49997225, 0.49997228, 0.        ],\n",
      "        [0.49997225, 0.49997228, 0.        ],\n",
      "        [0.49997225, 0.49997228, 0.        ]],\n",
      "\n",
      "       ...,\n",
      "\n",
      "       [[0.4617828 , 0.5157748 , 0.89278376],\n",
      "        [0.506907  , 0.508686  , 0.8598987 ],\n",
      "        [0.5055718 , 0.5074476 , 0.7733678 ],\n",
      "        ...,\n",
      "        [0.49997225, 0.49997228, 0.        ],\n",
      "        [0.49997225, 0.49997228, 0.        ],\n",
      "        [0.49997225, 0.49997228, 0.        ]],\n",
      "\n",
      "       [[0.557715  , 0.6362241 , 0.76828957],\n",
      "        [0.4944688 , 0.35338932, 0.765772  ],\n",
      "        [0.56625706, 0.6334934 , 0.75198245],\n",
      "        ...,\n",
      "        [0.7178255 , 0.17760247, 0.310261  ],\n",
      "        [0.65652716, 0.94572145, 0.30976555],\n",
      "        [0.9606002 , 0.5660961 , 0.30778402]],\n",
      "\n",
      "       [[0.5479471 , 0.48909825, 0.90515137],\n",
      "        [0.47729364, 0.4895951 , 0.8470877 ],\n",
      "        [0.54885256, 0.48592177, 0.74299014],\n",
      "        ...,\n",
      "        [0.7035468 , 0.6824751 , 0.3363498 ],\n",
      "        [0.44819397, 0.3484236 , 0.33230466],\n",
      "        [0.5656179 , 0.8089804 , 0.3313761 ]]], dtype=float32)>)\n"
     ]
    }
   ],
   "source": [
    "#new = train_ds_2.prefetch(buffer_size = tf.data.experimental.AUTOTUNE)\n",
    "for data in ds.take(1):\n",
    "    print(data)\n",
    "    break"
   ]
  },
  {
   "cell_type": "code",
   "execution_count": 3,
   "metadata": {},
   "outputs": [],
   "source": [
    "import tensorflow.experimental.numpy as tnp\n"
   ]
  },
  {
   "cell_type": "code",
   "execution_count": 4,
   "metadata": {},
   "outputs": [
    {
     "ename": "ModuleNotFoundError",
     "evalue": "No module named 'setGPU'",
     "output_type": "error",
     "traceback": [
      "\u001b[0;31m---------------------------------------------------------------------------\u001b[0m",
      "\u001b[0;31mModuleNotFoundError\u001b[0m                       Traceback (most recent call last)",
      "\u001b[0;32m/tmp/ipykernel_3695/4041370451.py\u001b[0m in \u001b[0;36m<module>\u001b[0;34m\u001b[0m\n\u001b[0;32m----> 1\u001b[0;31m \u001b[0;32mimport\u001b[0m \u001b[0msetGPU\u001b[0m\u001b[0;34m\u001b[0m\u001b[0;34m\u001b[0m\u001b[0m\n\u001b[0m",
      "\u001b[0;31mModuleNotFoundError\u001b[0m: No module named 'setGPU'"
     ]
    }
   ],
   "source": []
  },
  {
   "cell_type": "code",
   "execution_count": 26,
   "metadata": {},
   "outputs": [
    {
     "ename": "ModuleNotFoundError",
     "evalue": "No module named 'uproot_methods'",
     "output_type": "error",
     "traceback": [
      "\u001b[0;31m---------------------------------------------------------------------------\u001b[0m",
      "\u001b[0;31mModuleNotFoundError\u001b[0m                       Traceback (most recent call last)",
      "\u001b[0;32m/tmp/ipykernel_21335/525393787.py\u001b[0m in \u001b[0;36m<module>\u001b[0;34m\u001b[0m\n\u001b[0;32m----> 1\u001b[0;31m \u001b[0;32mimport\u001b[0m \u001b[0muproot_methods\u001b[0m\u001b[0;34m\u001b[0m\u001b[0;34m\u001b[0m\u001b[0m\n\u001b[0m",
      "\u001b[0;31mModuleNotFoundError\u001b[0m: No module named 'uproot_methods'"
     ]
    }
   ],
   "source": [
    "import uproot_methods\n"
   ]
  },
  {
   "cell_type": "code",
   "execution_count": 27,
   "metadata": {},
   "outputs": [
    {
     "data": {
      "text/plain": [
       "100000.0"
      ]
     },
     "execution_count": 27,
     "metadata": {},
     "output_type": "execute_result"
    }
   ],
   "source": [
    "1e5"
   ]
  },
  {
   "cell_type": "code",
   "execution_count": 29,
   "metadata": {},
   "outputs": [
    {
     "ename": "NameError",
     "evalue": "name 'prepr' is not defined",
     "output_type": "error",
     "traceback": [
      "\u001b[0;31m---------------------------------------------------------------------------\u001b[0m",
      "\u001b[0;31mNameError\u001b[0m                                 Traceback (most recent call last)",
      "\u001b[0;32m/tmp/ipykernel_21335/3271819862.py\u001b[0m in \u001b[0;36m<module>\u001b[0;34m\u001b[0m\n\u001b[1;32m      6\u001b[0m \u001b[0mbatch_size\u001b[0m \u001b[0;34m=\u001b[0m \u001b[0;36m128\u001b[0m\u001b[0;34m\u001b[0m\u001b[0;34m\u001b[0m\u001b[0m\n\u001b[1;32m      7\u001b[0m \u001b[0mtrain_set_size\u001b[0m \u001b[0;34m=\u001b[0m \u001b[0mint\u001b[0m\u001b[0;34m(\u001b[0m\u001b[0;34m(\u001b[0m\u001b[0;36m5\u001b[0m\u001b[0;34m*\u001b[0m\u001b[0;36m10e3\u001b[0m\u001b[0;34m//\u001b[0m\u001b[0mbatch_size\u001b[0m\u001b[0;34m)\u001b[0m\u001b[0;34m*\u001b[0m\u001b[0mbatch_size\u001b[0m\u001b[0;34m)\u001b[0m\u001b[0;34m\u001b[0m\u001b[0;34m\u001b[0m\u001b[0m\n\u001b[0;32m----> 8\u001b[0;31m \u001b[0m_\u001b[0m\u001b[0;34m,\u001b[0m\u001b[0m_\u001b[0m\u001b[0;34m,\u001b[0m \u001b[0mparticles_bg\u001b[0m \u001b[0;34m=\u001b[0m \u001b[0mprepr\u001b[0m\u001b[0;34m.\u001b[0m\u001b[0mprepare_data_constituents\u001b[0m\u001b[0;34m(\u001b[0m\u001b[0mfilename_bg\u001b[0m\u001b[0;34m,\u001b[0m\u001b[0mtrain_set_size\u001b[0m\u001b[0;34m,\u001b[0m\u001b[0;36m0\u001b[0m\u001b[0;34m,\u001b[0m\u001b[0mtrain_set_size\u001b[0m\u001b[0;34m+\u001b[0m\u001b[0;36m1\u001b[0m\u001b[0;34m)\u001b[0m\u001b[0;34m\u001b[0m\u001b[0;34m\u001b[0m\u001b[0m\n\u001b[0m",
      "\u001b[0;31mNameError\u001b[0m: name 'prepr' is not defined"
     ]
    }
   ],
   "source": [
    "#Data Samples\n",
    "DATA_PATH = '/eos/project/d/dshep/TOPCLASS/DijetAnomaly/VAE_data/events/'\n",
    "\n",
    "TRAIN_NAME = 'qcd_sqrtshatTeV_13TeV_PU40_NEW_sideband'\n",
    "filename_bg = DATA_PATH + TRAIN_NAME + '_parts/' + TRAIN_NAME + '_000.h5'\n",
    "batch_size = 128\n",
    "train_set_size = int((5*10e3//batch_size)*batch_size)\n",
    "#_,_, particles_bg = prepr.prepare_data_constituents(filename_bg,train_set_size,0,train_set_size+1)"
   ]
  },
  {
   "cell_type": "code",
   "execution_count": 33,
   "metadata": {},
   "outputs": [
    {
     "ename": "TypeError",
     "evalue": "cannot create a storer if the object is not existing nor a value are passed",
     "output_type": "error",
     "traceback": [
      "\u001b[0;31m---------------------------------------------------------------------------\u001b[0m",
      "\u001b[0;31mTypeError\u001b[0m                                 Traceback (most recent call last)",
      "\u001b[0;32m/tmp/ipykernel_21335/3506181916.py\u001b[0m in \u001b[0;36m<module>\u001b[0;34m\u001b[0m\n\u001b[1;32m      1\u001b[0m \u001b[0;32mimport\u001b[0m \u001b[0mpandas\u001b[0m \u001b[0;32mas\u001b[0m \u001b[0mpd\u001b[0m\u001b[0;34m\u001b[0m\u001b[0;34m\u001b[0m\u001b[0m\n\u001b[0;32m----> 2\u001b[0;31m \u001b[0mdf\u001b[0m \u001b[0;34m=\u001b[0m \u001b[0mpd\u001b[0m\u001b[0;34m.\u001b[0m\u001b[0mread_hdf\u001b[0m\u001b[0;34m(\u001b[0m\u001b[0mfilename_bg\u001b[0m\u001b[0;34m,\u001b[0m \u001b[0mkey\u001b[0m\u001b[0;34m=\u001b[0m\u001b[0;34m'jetConstituentsList'\u001b[0m\u001b[0;34m)\u001b[0m\u001b[0;34m\u001b[0m\u001b[0;34m\u001b[0m\u001b[0m\n\u001b[0m",
      "\u001b[0;32m/cvmfs/sft-nightlies.cern.ch/lcg/views/dev3cuda/Tue/x86_64-centos7-gcc8-opt/lib/python3.8/site-packages/pandas/io/pytables.py\u001b[0m in \u001b[0;36mread_hdf\u001b[0;34m(path_or_buf, key, mode, errors, where, start, stop, columns, iterator, chunksize, **kwargs)\u001b[0m\n\u001b[1;32m    423\u001b[0m                     )\n\u001b[1;32m    424\u001b[0m             \u001b[0mkey\u001b[0m \u001b[0;34m=\u001b[0m \u001b[0mcandidate_only_group\u001b[0m\u001b[0;34m.\u001b[0m\u001b[0m_v_pathname\u001b[0m\u001b[0;34m\u001b[0m\u001b[0;34m\u001b[0m\u001b[0m\n\u001b[0;32m--> 425\u001b[0;31m         return store.select(\n\u001b[0m\u001b[1;32m    426\u001b[0m             \u001b[0mkey\u001b[0m\u001b[0;34m,\u001b[0m\u001b[0;34m\u001b[0m\u001b[0;34m\u001b[0m\u001b[0m\n\u001b[1;32m    427\u001b[0m             \u001b[0mwhere\u001b[0m\u001b[0;34m=\u001b[0m\u001b[0mwhere\u001b[0m\u001b[0;34m,\u001b[0m\u001b[0;34m\u001b[0m\u001b[0;34m\u001b[0m\u001b[0m\n",
      "\u001b[0;32m/cvmfs/sft-nightlies.cern.ch/lcg/views/dev3cuda/Tue/x86_64-centos7-gcc8-opt/lib/python3.8/site-packages/pandas/io/pytables.py\u001b[0m in \u001b[0;36mselect\u001b[0;34m(self, key, where, start, stop, columns, iterator, chunksize, auto_close)\u001b[0m\n\u001b[1;32m    822\u001b[0m         \u001b[0;31m# create the storer and axes\u001b[0m\u001b[0;34m\u001b[0m\u001b[0;34m\u001b[0m\u001b[0;34m\u001b[0m\u001b[0m\n\u001b[1;32m    823\u001b[0m         \u001b[0mwhere\u001b[0m \u001b[0;34m=\u001b[0m \u001b[0m_ensure_term\u001b[0m\u001b[0;34m(\u001b[0m\u001b[0mwhere\u001b[0m\u001b[0;34m,\u001b[0m \u001b[0mscope_level\u001b[0m\u001b[0;34m=\u001b[0m\u001b[0;36m1\u001b[0m\u001b[0;34m)\u001b[0m\u001b[0;34m\u001b[0m\u001b[0;34m\u001b[0m\u001b[0m\n\u001b[0;32m--> 824\u001b[0;31m         \u001b[0ms\u001b[0m \u001b[0;34m=\u001b[0m \u001b[0mself\u001b[0m\u001b[0;34m.\u001b[0m\u001b[0m_create_storer\u001b[0m\u001b[0;34m(\u001b[0m\u001b[0mgroup\u001b[0m\u001b[0;34m)\u001b[0m\u001b[0;34m\u001b[0m\u001b[0;34m\u001b[0m\u001b[0m\n\u001b[0m\u001b[1;32m    825\u001b[0m         \u001b[0ms\u001b[0m\u001b[0;34m.\u001b[0m\u001b[0minfer_axes\u001b[0m\u001b[0;34m(\u001b[0m\u001b[0;34m)\u001b[0m\u001b[0;34m\u001b[0m\u001b[0;34m\u001b[0m\u001b[0m\n\u001b[1;32m    826\u001b[0m \u001b[0;34m\u001b[0m\u001b[0m\n",
      "\u001b[0;32m/cvmfs/sft-nightlies.cern.ch/lcg/views/dev3cuda/Tue/x86_64-centos7-gcc8-opt/lib/python3.8/site-packages/pandas/io/pytables.py\u001b[0m in \u001b[0;36m_create_storer\u001b[0;34m(self, group, format, value, encoding, errors)\u001b[0m\n\u001b[1;32m   1642\u001b[0m                     \u001b[0mtt\u001b[0m \u001b[0;34m=\u001b[0m \u001b[0;34m\"generic_table\"\u001b[0m\u001b[0;34m\u001b[0m\u001b[0;34m\u001b[0m\u001b[0m\n\u001b[1;32m   1643\u001b[0m                 \u001b[0;32melse\u001b[0m\u001b[0;34m:\u001b[0m\u001b[0;34m\u001b[0m\u001b[0;34m\u001b[0m\u001b[0m\n\u001b[0;32m-> 1644\u001b[0;31m                     raise TypeError(\n\u001b[0m\u001b[1;32m   1645\u001b[0m                         \u001b[0;34m\"cannot create a storer if the object is not existing \"\u001b[0m\u001b[0;34m\u001b[0m\u001b[0;34m\u001b[0m\u001b[0m\n\u001b[1;32m   1646\u001b[0m                         \u001b[0;34m\"nor a value are passed\"\u001b[0m\u001b[0;34m\u001b[0m\u001b[0;34m\u001b[0m\u001b[0m\n",
      "\u001b[0;31mTypeError\u001b[0m: cannot create a storer if the object is not existing nor a value are passed"
     ]
    }
   ],
   "source": [
    "import pandas as pd\n",
    "df = pd.read_hdf(filename_bg, key='jetConstituentsList')"
   ]
  },
  {
   "cell_type": "code",
   "execution_count": 36,
   "metadata": {},
   "outputs": [
    {
     "name": "stderr",
     "output_type": "stream",
     "text": [
      "/tmp/ipykernel_21335/1177929447.py:2: H5pyDeprecationWarning: The default file mode will change to 'r' (read-only) in h5py 3.0. To suppress this warning, pass the mode you need to h5py.File(), or set the global default h5.get_config().default_file_mode, or set the environment variable H5PY_DEFAULT_READONLY=1. Available modes are: 'r', 'r+', 'w', 'w-'/'x', 'a'. See the docs for details.\n",
      "  df = pd.DataFrame(np.array(h5py.File(filename_bg)['jetConstituentsList']))\n"
     ]
    },
    {
     "ename": "ValueError",
     "evalue": "Must pass 2-d input. shape=(867424, 2, 100, 3)",
     "output_type": "error",
     "traceback": [
      "\u001b[0;31m---------------------------------------------------------------------------\u001b[0m",
      "\u001b[0;31mValueError\u001b[0m                                Traceback (most recent call last)",
      "\u001b[0;32m/tmp/ipykernel_21335/1177929447.py\u001b[0m in \u001b[0;36m<module>\u001b[0;34m\u001b[0m\n\u001b[1;32m      1\u001b[0m \u001b[0;32mimport\u001b[0m \u001b[0mh5py\u001b[0m\u001b[0;34m\u001b[0m\u001b[0;34m\u001b[0m\u001b[0m\n\u001b[0;32m----> 2\u001b[0;31m \u001b[0mdf\u001b[0m \u001b[0;34m=\u001b[0m \u001b[0mpd\u001b[0m\u001b[0;34m.\u001b[0m\u001b[0mDataFrame\u001b[0m\u001b[0;34m(\u001b[0m\u001b[0mnp\u001b[0m\u001b[0;34m.\u001b[0m\u001b[0marray\u001b[0m\u001b[0;34m(\u001b[0m\u001b[0mh5py\u001b[0m\u001b[0;34m.\u001b[0m\u001b[0mFile\u001b[0m\u001b[0;34m(\u001b[0m\u001b[0mfilename_bg\u001b[0m\u001b[0;34m)\u001b[0m\u001b[0;34m[\u001b[0m\u001b[0;34m'jetConstituentsList'\u001b[0m\u001b[0;34m]\u001b[0m\u001b[0;34m)\u001b[0m\u001b[0;34m)\u001b[0m\u001b[0;34m\u001b[0m\u001b[0;34m\u001b[0m\u001b[0m\n\u001b[0m",
      "\u001b[0;32m/cvmfs/sft-nightlies.cern.ch/lcg/views/dev3cuda/Tue/x86_64-centos7-gcc8-opt/lib/python3.8/site-packages/pandas/core/frame.py\u001b[0m in \u001b[0;36m__init__\u001b[0;34m(self, data, index, columns, dtype, copy)\u001b[0m\n\u001b[1;32m    556\u001b[0m                 \u001b[0mmgr\u001b[0m \u001b[0;34m=\u001b[0m \u001b[0minit_dict\u001b[0m\u001b[0;34m(\u001b[0m\u001b[0;34m{\u001b[0m\u001b[0mdata\u001b[0m\u001b[0;34m.\u001b[0m\u001b[0mname\u001b[0m\u001b[0;34m:\u001b[0m \u001b[0mdata\u001b[0m\u001b[0;34m}\u001b[0m\u001b[0;34m,\u001b[0m \u001b[0mindex\u001b[0m\u001b[0;34m,\u001b[0m \u001b[0mcolumns\u001b[0m\u001b[0;34m,\u001b[0m \u001b[0mdtype\u001b[0m\u001b[0;34m=\u001b[0m\u001b[0mdtype\u001b[0m\u001b[0;34m)\u001b[0m\u001b[0;34m\u001b[0m\u001b[0;34m\u001b[0m\u001b[0m\n\u001b[1;32m    557\u001b[0m             \u001b[0;32melse\u001b[0m\u001b[0;34m:\u001b[0m\u001b[0;34m\u001b[0m\u001b[0;34m\u001b[0m\u001b[0m\n\u001b[0;32m--> 558\u001b[0;31m                 \u001b[0mmgr\u001b[0m \u001b[0;34m=\u001b[0m \u001b[0minit_ndarray\u001b[0m\u001b[0;34m(\u001b[0m\u001b[0mdata\u001b[0m\u001b[0;34m,\u001b[0m \u001b[0mindex\u001b[0m\u001b[0;34m,\u001b[0m \u001b[0mcolumns\u001b[0m\u001b[0;34m,\u001b[0m \u001b[0mdtype\u001b[0m\u001b[0;34m=\u001b[0m\u001b[0mdtype\u001b[0m\u001b[0;34m,\u001b[0m \u001b[0mcopy\u001b[0m\u001b[0;34m=\u001b[0m\u001b[0mcopy\u001b[0m\u001b[0;34m)\u001b[0m\u001b[0;34m\u001b[0m\u001b[0;34m\u001b[0m\u001b[0m\n\u001b[0m\u001b[1;32m    559\u001b[0m \u001b[0;34m\u001b[0m\u001b[0m\n\u001b[1;32m    560\u001b[0m         \u001b[0;31m# For data is list-like, or Iterable (will consume into list)\u001b[0m\u001b[0;34m\u001b[0m\u001b[0;34m\u001b[0m\u001b[0;34m\u001b[0m\u001b[0m\n",
      "\u001b[0;32m/cvmfs/sft-nightlies.cern.ch/lcg/views/dev3cuda/Tue/x86_64-centos7-gcc8-opt/lib/python3.8/site-packages/pandas/core/internals/construction.py\u001b[0m in \u001b[0;36minit_ndarray\u001b[0;34m(values, index, columns, dtype, copy)\u001b[0m\n\u001b[1;32m    190\u001b[0m     \u001b[0;31m# by definition an array here\u001b[0m\u001b[0;34m\u001b[0m\u001b[0;34m\u001b[0m\u001b[0;34m\u001b[0m\u001b[0m\n\u001b[1;32m    191\u001b[0m     \u001b[0;31m# the dtypes will be coerced to a single dtype\u001b[0m\u001b[0;34m\u001b[0m\u001b[0;34m\u001b[0m\u001b[0;34m\u001b[0m\u001b[0m\n\u001b[0;32m--> 192\u001b[0;31m     \u001b[0mvalues\u001b[0m \u001b[0;34m=\u001b[0m \u001b[0m_prep_ndarray\u001b[0m\u001b[0;34m(\u001b[0m\u001b[0mvalues\u001b[0m\u001b[0;34m,\u001b[0m \u001b[0mcopy\u001b[0m\u001b[0;34m=\u001b[0m\u001b[0mcopy\u001b[0m\u001b[0;34m)\u001b[0m\u001b[0;34m\u001b[0m\u001b[0;34m\u001b[0m\u001b[0m\n\u001b[0m\u001b[1;32m    193\u001b[0m \u001b[0;34m\u001b[0m\u001b[0m\n\u001b[1;32m    194\u001b[0m     \u001b[0;32mif\u001b[0m \u001b[0mdtype\u001b[0m \u001b[0;32mis\u001b[0m \u001b[0;32mnot\u001b[0m \u001b[0;32mNone\u001b[0m \u001b[0;32mand\u001b[0m \u001b[0;32mnot\u001b[0m \u001b[0mis_dtype_equal\u001b[0m\u001b[0;34m(\u001b[0m\u001b[0mvalues\u001b[0m\u001b[0;34m.\u001b[0m\u001b[0mdtype\u001b[0m\u001b[0;34m,\u001b[0m \u001b[0mdtype\u001b[0m\u001b[0;34m)\u001b[0m\u001b[0;34m:\u001b[0m\u001b[0;34m\u001b[0m\u001b[0;34m\u001b[0m\u001b[0m\n",
      "\u001b[0;32m/cvmfs/sft-nightlies.cern.ch/lcg/views/dev3cuda/Tue/x86_64-centos7-gcc8-opt/lib/python3.8/site-packages/pandas/core/internals/construction.py\u001b[0m in \u001b[0;36m_prep_ndarray\u001b[0;34m(values, copy)\u001b[0m\n\u001b[1;32m    326\u001b[0m         \u001b[0mvalues\u001b[0m \u001b[0;34m=\u001b[0m \u001b[0mvalues\u001b[0m\u001b[0;34m.\u001b[0m\u001b[0mreshape\u001b[0m\u001b[0;34m(\u001b[0m\u001b[0;34m(\u001b[0m\u001b[0mvalues\u001b[0m\u001b[0;34m.\u001b[0m\u001b[0mshape\u001b[0m\u001b[0;34m[\u001b[0m\u001b[0;36m0\u001b[0m\u001b[0;34m]\u001b[0m\u001b[0;34m,\u001b[0m \u001b[0;36m1\u001b[0m\u001b[0;34m)\u001b[0m\u001b[0;34m)\u001b[0m\u001b[0;34m\u001b[0m\u001b[0;34m\u001b[0m\u001b[0m\n\u001b[1;32m    327\u001b[0m     \u001b[0;32melif\u001b[0m \u001b[0mvalues\u001b[0m\u001b[0;34m.\u001b[0m\u001b[0mndim\u001b[0m \u001b[0;34m!=\u001b[0m \u001b[0;36m2\u001b[0m\u001b[0;34m:\u001b[0m\u001b[0;34m\u001b[0m\u001b[0;34m\u001b[0m\u001b[0m\n\u001b[0;32m--> 328\u001b[0;31m         \u001b[0;32mraise\u001b[0m \u001b[0mValueError\u001b[0m\u001b[0;34m(\u001b[0m\u001b[0;34mf\"Must pass 2-d input. shape={values.shape}\"\u001b[0m\u001b[0;34m)\u001b[0m\u001b[0;34m\u001b[0m\u001b[0;34m\u001b[0m\u001b[0m\n\u001b[0m\u001b[1;32m    329\u001b[0m \u001b[0;34m\u001b[0m\u001b[0m\n\u001b[1;32m    330\u001b[0m     \u001b[0;32mreturn\u001b[0m \u001b[0mvalues\u001b[0m\u001b[0;34m\u001b[0m\u001b[0;34m\u001b[0m\u001b[0m\n",
      "\u001b[0;31mValueError\u001b[0m: Must pass 2-d input. shape=(867424, 2, 100, 3)"
     ]
    }
   ],
   "source": [
    "import h5py\n",
    "df = pd.DataFrame(np.array(h5py.File(filename_bg)['jetConstituentsList']))\n"
   ]
  },
  {
   "cell_type": "code",
   "execution_count": null,
   "metadata": {},
   "outputs": [],
   "source": []
  }
 ],
 "metadata": {
  "kernelspec": {
   "display_name": "Python 3",
   "language": "python",
   "name": "python3"
  },
  "language_info": {
   "codemirror_mode": {
    "name": "ipython",
    "version": 3
   },
   "file_extension": ".py",
   "mimetype": "text/x-python",
   "name": "python",
   "nbconvert_exporter": "python",
   "pygments_lexer": "ipython3",
   "version": "3.7.6"
  }
 },
 "nbformat": 4,
 "nbformat_minor": 2
}
