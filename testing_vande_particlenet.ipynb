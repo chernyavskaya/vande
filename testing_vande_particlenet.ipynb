{
 "cells": [
  {
   "cell_type": "code",
   "execution_count": 17,
   "metadata": {},
   "outputs": [
    {
     "name": "stdout",
     "output_type": "stream",
     "text": [
      "tensorflow version:  2.3.0\n"
     ]
    }
   ],
   "source": [
    "import os\n",
    "import setGPU\n",
    "import numpy as np\n",
    "from collections import namedtuple\n",
    "os.environ['TF_CPP_MIN_LOG_LEVEL'] = '2'\n",
    "import tensorflow as tf\n",
    "print('tensorflow version: ', tf.__version__)\n",
    "import sys, os\n",
    "sys.path.append(os.path.abspath(os.path.join('..')))\n",
    "sys.path.append(os.path.abspath(os.path.join('../../')))\n",
    "\n",
    "import vae.vae_particle as vap\n",
    "import vae.losses as losses\n",
    "import pofah.path_constants.sample_dict_file_parts_input as sdi\n",
    "import pofah.util.experiment as expe\n",
    "import pofah.util.sample_factory as safa\n",
    "import util.data_generator as dage\n",
    "import sarewt.data_reader as dare\n",
    "import pofah.phase_space.cut_constants as cuts\n",
    "import training as tra\n",
    "import tensorflow.keras.layers as klayers\n",
    "from importlib import reload\n"
   ]
  },
  {
   "cell_type": "code",
   "execution_count": 239,
   "metadata": {},
   "outputs": [],
   "source": [
    "# ********************************************************\n",
    "#       runtime params\n",
    "# ********************************************************\n",
    "\n",
    "Parameters = namedtuple('Parameters', 'run_n input_shape kernel_sz kernel_ini_n beta epochs train_total_n gen_part_n valid_total_n batch_n z_sz activation initializer learning_rate max_lr_decay lambda_reg')\n",
    "params = Parameters(run_n=113, \n",
    "                    input_shape=[(100,2),(100,3)],\n",
    "                    kernel_sz=(1,3), \n",
    "                    kernel_ini_n=12,\n",
    "                    beta=0, \n",
    "                    epochs=20, \n",
    "                    train_total_n=int(10e6), \n",
    "                    valid_total_n=int(1e6), \n",
    "                    gen_part_n=int(5e5), \n",
    "                    batch_n=256, \n",
    "                    z_sz=12,\n",
    "                    activation='elu',\n",
    "                    initializer='he_uniform',\n",
    "                    learning_rate=0.001,\n",
    "                    max_lr_decay=8, \n",
    "                    lambda_reg=0.0) # 'L1L2'\n",
    "\n"
   ]
  },
  {
   "cell_type": "code",
   "execution_count": 85,
   "metadata": {},
   "outputs": [],
   "source": [
    "nodes_n=100\n",
    "feat_sz=3"
   ]
  },
  {
   "cell_type": "code",
   "execution_count": 237,
   "metadata": {},
   "outputs": [],
   "source": [
    "import tensorflow.keras.layers as klayers\n",
    "\n",
    "\n",
    "class _DotDict:\n",
    "    pass\n",
    "\n",
    "setting = _DotDict()\n",
    "setting.name = 'PN'\n",
    " # conv_params: list of tuple in the format (K, (C1, C2, C3))\n",
    "setting.conv_params = [\n",
    "   (15, ([20,20,20])),\n",
    "  #      (7, (32, 32, 32)),\n",
    "  #      (7, (64, 64, 64)),\n",
    "        ]\n",
    "#setting.conv_params_decoder = [60,32,16,8, 5]\n",
    "setting.conv_params_encoder_input = 20 #64 #20\n",
    "setting.conv_params_encoder = []\n",
    "setting.conv_params_decoder = [10]  #[32,16,8]\n",
    "setting.with_bn = True\n",
    "# conv_pooling: 'average' or 'max' #indeed average seems to perform better\n",
    "setting.conv_pooling = 'average'\n",
    "setting.conv_linking = 'sum' #concat or sum\n",
    "setting.num_points = nodes_n #num of original consituents\n",
    "setting.num_features = feat_sz #num of original features\n",
    "setting.input_shapes = {'points': [nodes_n,feat_sz-1],'features':[nodes_n,feat_sz]}\n",
    "setting.latent_dim = 3\n",
    "setting.ae_type = 'vae'  #ae or vae \n",
    "setting.kl_warmup_time = 10\n",
    "setting.activation = klayers.LeakyReLU(alpha=0.1)\n"
   ]
  },
  {
   "cell_type": "code",
   "execution_count": 238,
   "metadata": {},
   "outputs": [
    {
     "name": "stdout",
     "output_type": "stream",
     "text": [
      "Model: \"encoder\"\n",
      "__________________________________________________________________________________________________\n",
      "Layer (type)                    Output Shape         Param #     Connected to                     \n",
      "==================================================================================================\n",
      "points (InputLayer)             [(None, 100, 2)]     0                                            \n",
      "__________________________________________________________________________________________________\n",
      "tf_op_layer_Transpose_70 (Tenso [(None, 2, 100)]     0           points[0][0]                     \n",
      "__________________________________________________________________________________________________\n",
      "tf_op_layer_Mul_105 (TensorFlow [(None, 100, 2)]     0           points[0][0]                     \n",
      "                                                                 points[0][0]                     \n",
      "__________________________________________________________________________________________________\n",
      "tf_op_layer_BatchMatMulV2_35 (T [(None, 100, 100)]   0           points[0][0]                     \n",
      "                                                                 tf_op_layer_Transpose_70[0][0]   \n",
      "__________________________________________________________________________________________________\n",
      "tf_op_layer_Mul_106 (TensorFlow [(None, 100, 2)]     0           points[0][0]                     \n",
      "                                                                 points[0][0]                     \n",
      "__________________________________________________________________________________________________\n",
      "tf_op_layer_Sum_70 (TensorFlowO [(None, 100, 1)]     0           tf_op_layer_Mul_105[0][0]        \n",
      "__________________________________________________________________________________________________\n",
      "tf_op_layer_Mul_107 (TensorFlow [(None, 100, 100)]   0           tf_op_layer_BatchMatMulV2_35[0][0\n",
      "__________________________________________________________________________________________________\n",
      "tf_op_layer_Sum_71 (TensorFlowO [(None, 100, 1)]     0           tf_op_layer_Mul_106[0][0]        \n",
      "__________________________________________________________________________________________________\n",
      "features (InputLayer)           [(None, 100, 3)]     0                                            \n",
      "__________________________________________________________________________________________________\n",
      "tf_op_layer_Sub_70 (TensorFlowO [(None, 100, 100)]   0           tf_op_layer_Sum_70[0][0]         \n",
      "                                                                 tf_op_layer_Mul_107[0][0]        \n",
      "__________________________________________________________________________________________________\n",
      "tf_op_layer_Transpose_71 (Tenso [(None, 1, 100)]     0           tf_op_layer_Sum_71[0][0]         \n",
      "__________________________________________________________________________________________________\n",
      "tf_op_layer_Shape_35 (TensorFlo [(3,)]               0           features[0][0]                   \n",
      "__________________________________________________________________________________________________\n",
      "tf_op_layer_AddV2_35 (TensorFlo [(None, 100, 100)]   0           tf_op_layer_Sub_70[0][0]         \n",
      "                                                                 tf_op_layer_Transpose_71[0][0]   \n",
      "__________________________________________________________________________________________________\n",
      "tf_op_layer_strided_slice_72 (T [()]                 0           tf_op_layer_Shape_35[0][0]       \n",
      "__________________________________________________________________________________________________\n",
      "tf_op_layer_Neg_35 (TensorFlowO [(None, 100, 100)]   0           tf_op_layer_AddV2_35[0][0]       \n",
      "__________________________________________________________________________________________________\n",
      "tf_op_layer_Range_35 (TensorFlo [(None,)]            0           tf_op_layer_strided_slice_72[0][0\n",
      "__________________________________________________________________________________________________\n",
      "tf_op_layer_TopKV2_35 (TensorFl [(None, 100, 16), (N 0           tf_op_layer_Neg_35[0][0]         \n",
      "__________________________________________________________________________________________________\n",
      "tf_op_layer_Reshape_35 (TensorF [(None, 1, 1, 1)]    0           tf_op_layer_Range_35[0][0]       \n",
      "__________________________________________________________________________________________________\n",
      "tf_op_layer_strided_slice_71 (T [(None, 100, 15)]    0           tf_op_layer_TopKV2_35[0][1]      \n",
      "__________________________________________________________________________________________________\n",
      "tf_op_layer_Tile_70 (TensorFlow [(None, 100, 15, 1)] 0           tf_op_layer_Reshape_35[0][0]     \n",
      "__________________________________________________________________________________________________\n",
      "tf_op_layer_ExpandDims_175 (Ten [(None, 100, 15, 1)] 0           tf_op_layer_strided_slice_71[0][0\n",
      "__________________________________________________________________________________________________\n",
      "tf_op_layer_concat_35 (TensorFl [(None, 100, 15, 2)] 0           tf_op_layer_Tile_70[0][0]        \n",
      "                                                                 tf_op_layer_ExpandDims_175[0][0] \n",
      "__________________________________________________________________________________________________\n",
      "tf_op_layer_ExpandDims_176 (Ten [(None, 100, 1, 3)]  0           features[0][0]                   \n",
      "__________________________________________________________________________________________________\n",
      "tf_op_layer_GatherNd_35 (Tensor [(None, 100, 15, 3)] 0           features[0][0]                   \n",
      "                                                                 tf_op_layer_concat_35[0][0]      \n",
      "__________________________________________________________________________________________________\n",
      "tf_op_layer_Tile_71 (TensorFlow [(None, 100, 15, 3)] 0           tf_op_layer_ExpandDims_176[0][0] \n",
      "__________________________________________________________________________________________________\n",
      "tf_op_layer_Sub_71 (TensorFlowO [(None, 100, 15, 3)] 0           tf_op_layer_GatherNd_35[0][0]    \n",
      "                                                                 tf_op_layer_Tile_71[0][0]        \n",
      "__________________________________________________________________________________________________\n",
      "PN_0_conv0 (Conv2D)             (None, 100, 15, 20)  60          tf_op_layer_Sub_71[0][0]         \n",
      "__________________________________________________________________________________________________\n",
      "PN_0_bn0 (BatchNormalization)   (None, 100, 15, 20)  80          PN_0_conv0[0][0]                 \n",
      "__________________________________________________________________________________________________\n",
      "PN_0_act0 (Activation)          (None, 100, 15, 20)  0           PN_0_bn0[0][0]                   \n",
      "__________________________________________________________________________________________________\n",
      "PN_0_conv1 (Conv2D)             (None, 100, 15, 20)  400         PN_0_act0[0][0]                  \n",
      "__________________________________________________________________________________________________\n",
      "PN_0_bn1 (BatchNormalization)   (None, 100, 15, 20)  80          PN_0_conv1[0][0]                 \n",
      "__________________________________________________________________________________________________\n",
      "PN_0_act1 (Activation)          (None, 100, 15, 20)  0           PN_0_bn1[0][0]                   \n",
      "__________________________________________________________________________________________________\n",
      "PN_0_conv2 (Conv2D)             (None, 100, 15, 20)  400         PN_0_act1[0][0]                  \n",
      "__________________________________________________________________________________________________\n",
      "PN_0_bn2 (BatchNormalization)   (None, 100, 15, 20)  80          PN_0_conv2[0][0]                 \n",
      "__________________________________________________________________________________________________\n",
      "PN_0_act2 (Activation)          (None, 100, 15, 20)  0           PN_0_bn2[0][0]                   \n",
      "__________________________________________________________________________________________________\n",
      "tf_op_layer_Mean_34 (TensorFlow [(None, 100, 20)]    0           PN_0_act2[0][0]                  \n",
      "__________________________________________________________________________________________________\n",
      "Flatten_PN (Flatten)            (None, 2000)         0           tf_op_layer_Mean_34[0][0]        \n",
      "__________________________________________________________________________________________________\n",
      "z_mean (Dense)                  (None, 3)            6003        Flatten_PN[0][0]                 \n",
      "__________________________________________________________________________________________________\n",
      "z_log_var (Dense)               (None, 3)            6003        Flatten_PN[0][0]                 \n",
      "__________________________________________________________________________________________________\n",
      "sampling_24 (Sampling)          (None, 3)            0           z_mean[0][0]                     \n",
      "                                                                 z_log_var[0][0]                  \n",
      "==================================================================================================\n",
      "Total params: 13,106\n",
      "Trainable params: 12,986\n",
      "Non-trainable params: 120\n",
      "__________________________________________________________________________________________________\n",
      "Model: \"decoder\"\n",
      "_________________________________________________________________\n",
      "Layer (type)                 Output Shape              Param #   \n",
      "=================================================================\n",
      "decoder_input (InputLayer)   [(None, 3)]               0         \n",
      "_________________________________________________________________\n",
      "dense_43 (Dense)             (None, 1000)              4000      \n",
      "_________________________________________________________________\n",
      "PN_dense_0 (BatchNormalizati (None, 1000)              4000      \n",
      "_________________________________________________________________\n",
      "PN_act_0 (Activation)        (None, 1000)              0         \n",
      "_________________________________________________________________\n",
      "reshape_33 (Reshape)         (None, 100, 10)           0         \n",
      "_________________________________________________________________\n",
      "tf_op_layer_ExpandDims_178 ( [(None, 100, 1, 10)]      0         \n",
      "_________________________________________________________________\n",
      "PN_conv_out (Conv2D)         (None, 100, 1, 3)         33        \n",
      "_________________________________________________________________\n",
      "tf_op_layer_Squeeze_106 (Ten [(None, 100, 3)]          0         \n",
      "=================================================================\n",
      "Total params: 8,033\n",
      "Trainable params: 6,033\n",
      "Non-trainable params: 2,000\n",
      "_________________________________________________________________\n"
     ]
    },
    {
     "name": "stdout",
     "output_type": "stream",
     "text": [
      "Model: \"vae\"\n",
      "__________________________________________________________________________________________________\n",
      "Layer (type)                    Output Shape         Param #     Connected to                     \n",
      "==================================================================================================\n",
      "model_input_0 (InputLayer)      [(None, 100, 2)]     0                                            \n",
      "__________________________________________________________________________________________________\n",
      "model_input_1 (InputLayer)      [(None, 100, 3)]     0                                            \n",
      "__________________________________________________________________________________________________\n",
      "encoder (Functional)            [(None, 3), (None, 3 13106       model_input_0[0][0]              \n",
      "                                                                 model_input_1[0][0]              \n",
      "__________________________________________________________________________________________________\n",
      "decoder (Functional)            (None, 100, 3)       8033        encoder[0][0]                    \n",
      "==================================================================================================\n",
      "Total params: 21,139\n",
      "Trainable params: 19,019\n",
      "Non-trainable params: 2,120\n",
      "__________________________________________________________________________________________________\n"
     ]
    },
    {
     "data": {
      "text/plain": [
       "<tensorflow.python.keras.engine.functional.Functional at 0x7fef3956bc90>"
      ]
     },
     "execution_count": 238,
     "metadata": {},
     "output_type": "execute_result"
    }
   ],
   "source": [
    "import vae.vae_base as vae_base\n",
    "reload(vae_base)\n",
    "import vae.vae_particlenet as vae_pn\n",
    "reload(vae_pn)\n",
    "\n",
    "vae = vae_pn.VAE_ParticleNet(beta=params.beta,setting=setting,kernel_ini_n=params.kernel_ini_n,name='PN_AE_',input_shape=params.input_shape)\n",
    "a = [1]\n",
    "vae.build(a)\n",
    "#\n"
   ]
  },
  {
   "cell_type": "code",
   "execution_count": null,
   "metadata": {},
   "outputs": [],
   "source": [
    "# *******************************************************\n",
    "#                       training options\n",
    "# *******************************************************\n",
    "\n",
    "optimizer = tf.keras.optimizers.Adam(learning_rate=params.learning_rate)\n",
    "loss_fn = losses.threeD_loss"
   ]
  },
  {
   "cell_type": "code",
   "execution_count": null,
   "metadata": {},
   "outputs": [],
   "source": []
  },
  {
   "cell_type": "code",
   "execution_count": 146,
   "metadata": {},
   "outputs": [],
   "source": [
    "\n"
   ]
  },
  {
   "cell_type": "code",
   "execution_count": 36,
   "metadata": {},
   "outputs": [],
   "source": [
    "import h5py\n",
    "\n",
    "import ADgvae.utils.preprocessing as prepr\n",
    "reload(prepr)\n",
    "\n",
    "DATA_PATH = '/eos/user/n/nchernya/MLHEP/AnomalyDetection/ADgvae/input/'\n",
    "#filename_bg = DATA_PATH + 'QCD_training_data_02_08_2021.h5'\n",
    "filename_bg = DATA_PATH + 'QCD_training_data_100const_03_08_2021.h5'\n",
    "inFile = h5py.File(filename_bg, 'r')\n",
    "particles_bg = inFile['particle_bg'][0:int(5*10e4)]\n",
    "particles_bg_valid = inFile['particle_bg_valid'][0:int(1*10e4)]\n",
    "particles_bg_test = inFile['particle_bg_test'][0:int(1*10e4)]\n",
    "nodes_n = particles_bg.shape[1]\n",
    "feat_sz = particles_bg.shape[2]"
   ]
  },
  {
   "cell_type": "code",
   "execution_count": null,
   "metadata": {},
   "outputs": [],
   "source": []
  },
  {
   "cell_type": "code",
   "execution_count": 228,
   "metadata": {},
   "outputs": [],
   "source": [
    "train_ds = tf.data.Dataset.from_tensor_slices((particles_bg[:50000,:,0:2],particles_bg[:50000,:,:]))\n",
    "\n",
    "batched_dataset = train_ds.batch(1000)\n",
    "#for step, x_batch_train in enumerate(batched_dataset):\n",
    "#    print(x_batch_train)\n",
    "#    break"
   ]
  },
  {
   "cell_type": "code",
   "execution_count": 240,
   "metadata": {},
   "outputs": [
    {
     "name": "stdout",
     "output_type": "stream",
     "text": [
      "\n",
      "### [5.8 16:21:22] Start of epoch 0\n",
      "Step 0: mean reco loss 1.4081, KL loss 0.5318 (in one batch)\n",
      "Seen so far: 256 samples\n",
      "### [Epoch 0 - 18.08 sec]: train loss reco 1.005 kl 0.265, val loss reco 0.329 kl 0.009 (mean / batch) ###\n",
      "\n",
      "### [5.8 16:21:40] Start of epoch 1\n",
      "Step 0: mean reco loss 0.8493, KL loss 0.1881 (in one batch)\n",
      "Seen so far: 256 samples\n",
      "### [Epoch 1 - 14.96 sec]: train loss reco 0.737 kl 0.165, val loss reco 0.322 kl 0.024 (mean / batch) ###\n",
      "\n",
      "### [5.8 16:21:55] Start of epoch 2\n",
      "Step 0: mean reco loss 0.6506, KL loss 0.1515 (in one batch)\n",
      "Seen so far: 256 samples\n",
      "### [Epoch 2 - 15.04 sec]: train loss reco 0.599 kl 0.133, val loss reco 0.304 kl 0.033 (mean / batch) ###\n",
      "------- Early stopping for last 3 validation losses [0.3381467, 0.34579763, 0.3377257]-------\n",
      "decreasing learning rate from 2.700e-05 to 8.100e-06\n",
      "\n",
      "### [5.8 16:22:10] Start of epoch 3\n",
      "Step 0: mean reco loss 0.5481, KL loss 0.1256 (in one batch)\n",
      "Seen so far: 256 samples\n",
      "### [Epoch 3 - 15.07 sec]: train loss reco 0.538 kl 0.119, val loss reco 0.280 kl 0.044 (mean / batch) ###\n",
      "\n",
      "### [5.8 16:22:26] Start of epoch 4\n",
      "Step 0: mean reco loss 0.5339, KL loss 0.1188 (in one batch)\n",
      "Seen so far: 256 samples\n",
      "### [Epoch 4 - 15.06 sec]: train loss reco 0.517 kl 0.113, val loss reco 0.256 kl 0.052 (mean / batch) ###\n",
      "\n",
      "### [5.8 16:22:41] Start of epoch 5\n",
      "Step 0: mean reco loss 0.5104, KL loss 0.1143 (in one batch)\n",
      "Seen so far: 256 samples\n",
      "### [Epoch 5 - 15.07 sec]: train loss reco 0.498 kl 0.109, val loss reco 0.233 kl 0.057 (mean / batch) ###\n",
      "saving best so far model with valid loss 0.233 and kl loss 0.057\n",
      "saving model to /eos/user/n/nchernya/MLHEP/AnomalyDetection/best_so_far\n",
      "\n",
      "### [5.8 16:22:56] Start of epoch 6\n",
      "Step 0: mean reco loss 0.4972, KL loss 0.1098 (in one batch)\n",
      "Seen so far: 256 samples\n",
      "### [Epoch 6 - 15.12 sec]: train loss reco 0.482 kl 0.105, val loss reco 0.217 kl 0.061 (mean / batch) ###\n",
      "saving best so far model with valid loss 0.217 and kl loss 0.061\n",
      "saving model to /eos/user/n/nchernya/MLHEP/AnomalyDetection/best_so_far\n",
      "\n",
      "### [5.8 16:23:12] Start of epoch 7\n",
      "Step 0: mean reco loss 0.4854, KL loss 0.1055 (in one batch)\n",
      "Seen so far: 256 samples\n",
      "### [Epoch 7 - 15.13 sec]: train loss reco 0.466 kl 0.101, val loss reco 0.209 kl 0.066 (mean / batch) ###\n",
      "saving best so far model with valid loss 0.209 and kl loss 0.066\n",
      "saving model to /eos/user/n/nchernya/MLHEP/AnomalyDetection/best_so_far\n",
      "\n",
      "### [5.8 16:23:27] Start of epoch 8\n",
      "Step 0: mean reco loss 0.4541, KL loss 0.1018 (in one batch)\n",
      "Seen so far: 256 samples\n",
      "### [Epoch 8 - 15.07 sec]: train loss reco 0.453 kl 0.097, val loss reco 0.213 kl 0.070 (mean / batch) ###\n",
      "\n",
      "### [5.8 16:23:42] Start of epoch 9\n",
      "Step 0: mean reco loss 0.4488, KL loss 0.0980 (in one batch)\n",
      "Seen so far: 256 samples\n",
      "### [Epoch 9 - 15.11 sec]: train loss reco 0.441 kl 0.094, val loss reco 0.229 kl 0.075 (mean / batch) ###\n",
      "\n",
      "### [5.8 16:23:57] Start of epoch 10\n",
      "Step 0: mean reco loss 0.4208, KL loss 0.0951 (in one batch)\n",
      "Seen so far: 256 samples\n",
      "### [Epoch 10 - 15.08 sec]: train loss reco 0.429 kl 0.091, val loss reco 0.252 kl 0.078 (mean / batch) ###\n",
      "\n",
      "### [5.8 16:24:13] Start of epoch 11\n",
      "Step 0: mean reco loss 0.4301, KL loss 0.0923 (in one batch)\n",
      "Seen so far: 256 samples\n",
      "### [Epoch 11 - 15.09 sec]: train loss reco 0.419 kl 0.088, val loss reco 0.278 kl 0.079 (mean / batch) ###\n",
      "\n",
      "### [5.8 16:24:28] Start of epoch 12\n",
      "Step 0: mean reco loss 0.4148, KL loss 0.0893 (in one batch)\n",
      "Seen so far: 256 samples\n",
      "### [Epoch 12 - 15.06 sec]: train loss reco 0.408 kl 0.086, val loss reco 0.304 kl 0.079 (mean / batch) ###\n",
      "\n",
      "### [5.8 16:24:43] Start of epoch 13\n",
      "Step 0: mean reco loss 0.4077, KL loss 0.0864 (in one batch)\n",
      "Seen so far: 256 samples\n",
      "### [Epoch 13 - 15.11 sec]: train loss reco 0.399 kl 0.083, val loss reco 0.321 kl 0.079 (mean / batch) ###\n",
      "\n",
      "### [5.8 16:24:58] Start of epoch 14\n",
      "Step 0: mean reco loss 0.3902, KL loss 0.0840 (in one batch)\n",
      "Seen so far: 256 samples\n",
      "### [Epoch 14 - 15.13 sec]: train loss reco 0.389 kl 0.080, val loss reco 0.338 kl 0.077 (mean / batch) ###\n",
      "\n",
      "### [5.8 16:25:13] Start of epoch 15\n",
      "Step 0: mean reco loss 0.3848, KL loss 0.0816 (in one batch)\n",
      "Seen so far: 256 samples\n",
      "### [Epoch 15 - 15.07 sec]: train loss reco 0.382 kl 0.078, val loss reco 0.340 kl 0.076 (mean / batch) ###\n",
      "\n",
      "### [5.8 16:25:28] Start of epoch 16\n",
      "Step 0: mean reco loss 0.3711, KL loss 0.0792 (in one batch)\n",
      "Seen so far: 256 samples\n",
      "### [Epoch 16 - 15.05 sec]: train loss reco 0.373 kl 0.076, val loss reco 0.346 kl 0.074 (mean / batch) ###\n",
      "------- Early stopping for last 3 validation losses [0.41534463, 0.41563144, 0.4203672]-------\n",
      "decreasing learning rate from 8.100e-06 to 2.430e-06\n",
      "\n",
      "### [5.8 16:25:43] Start of epoch 17\n",
      "Step 0: mean reco loss 0.3734, KL loss 0.0769 (in one batch)\n",
      "Seen so far: 256 samples\n",
      "### [Epoch 17 - 15.06 sec]: train loss reco 0.370 kl 0.075, val loss reco 0.352 kl 0.074 (mean / batch) ###\n",
      "\n",
      "### [5.8 16:25:58] Start of epoch 18\n",
      "Step 0: mean reco loss 0.3764, KL loss 0.0764 (in one batch)\n",
      "Seen so far: 256 samples\n",
      "### [Epoch 18 - 15.11 sec]: train loss reco 0.367 kl 0.074, val loss reco 0.356 kl 0.073 (mean / batch) ###\n",
      "\n",
      "### [5.8 16:26:13] Start of epoch 19\n",
      "Step 0: mean reco loss 0.3608, KL loss 0.0758 (in one batch)\n",
      "Seen so far: 256 samples\n",
      "### [Epoch 19 - 15.08 sec]: train loss reco 0.364 kl 0.073, val loss reco 0.357 kl 0.073 (mean / batch) ###\n",
      "------- Early stopping for last 3 validation losses [0.42569056, 0.4294724, 0.42950854]-------\n",
      "decreasing learning rate from 2.430e-06 to 7.290e-07\n"
     ]
    }
   ],
   "source": [
    "reload(tra)\n",
    "import setGPU\n",
    "trainer = tra.TrainerParticleNet(optimizer=optimizer, beta=params.beta, patience=3, min_delta=0.03, max_lr_decay=params.max_lr_decay, lambda_reg=params.lambda_reg)\n",
    "\n",
    "losses_reco, losses_valid = trainer.train(vae=vae, loss_fn=loss_fn,\n",
    "                                          train_ds=batched_dataset, valid_ds=batched_dataset,\n",
    "                                          epochs=params.epochs, model_dir='/eos/user/n/nchernya/MLHEP/AnomalyDetection/')\n",
    "\n"
   ]
  },
  {
   "cell_type": "code",
   "execution_count": 241,
   "metadata": {},
   "outputs": [],
   "source": [
    "\n",
    "\n",
    "tra.plot_training_results(losses_reco, losses_valid, '/eos/user/n/nchernya/MLHEP/AnomalyDetection/')\n",
    "\n",
    "#vae.save(path='/eos/user/n/nchernya/MLHEP/AnomalyDetection/')"
   ]
  },
  {
   "cell_type": "code",
   "execution_count": 242,
   "metadata": {},
   "outputs": [],
   "source": [
    "reload(tra)\n",
    "loss_fn = losses.threeD_loss\n",
    "\n",
    "reco_j1, loss_j1_reco, loss_j1_kl = tra.predict_particle_net(vae.model, loss_fn, batched_dataset)\n"
   ]
  },
  {
   "cell_type": "code",
   "execution_count": 212,
   "metadata": {},
   "outputs": [
    {
     "data": {
      "text/plain": [
       "500"
      ]
     },
     "execution_count": 212,
     "metadata": {},
     "output_type": "execute_result"
    }
   ],
   "source": []
  },
  {
   "cell_type": "code",
   "execution_count": 243,
   "metadata": {},
   "outputs": [
    {
     "data": {
      "image/png": "[encoded data removed]",
      "text/plain": [
       "<Figure size 576x504 with 1 Axes>"
      ]
     },
     "metadata": {
      "needs_background": "light"
     },
     "output_type": "display_data"
    },
    {
     "data": {
      "image/png": "[encoded data removed]",
      "text/plain": [
       "<Figure size 576x504 with 1 Axes>"
      ]
     },
     "metadata": {
      "needs_background": "light"
     },
     "output_type": "display_data"
    }
   ],
   "source": [
    "import matplotlib.pyplot as plt\n",
    "plt.style.use('/eos/user/n/nchernya/MLHEP/AnomalyDetection/ADgvae/utils/adfigstyle.mplstyle')\n",
    "\n",
    "for loss in [loss_j1_reco, loss_j1_kl ]:\n",
    "    max_score = 1.1*np.quantile(loss,0.99)\n",
    "    min_score = np.min(loss)#,np.max(loss_bg_dist))\n",
    "    bins = 30\n",
    "    # plot BG\n",
    "    plt.figure()\n",
    "    plt.hist(loss, bins=bins, label='BG', density=True, range=(min_score, max_score), \n",
    "         histtype='step', fill=False, linewidth=2.3)\n",
    "    #plt.semilogy()\n",
    "    plt.xlabel(\"Loss\")\n",
    "    plt.ylabel(\"Normalized Dist.\")\n",
    "    plt.legend(bbox_to_anchor=(1., 1.),fontsize=15)\n",
    "    plt.show()"
   ]
  },
  {
   "cell_type": "code",
   "execution_count": null,
   "metadata": {},
   "outputs": [],
   "source": []
  },
  {
   "cell_type": "code",
   "execution_count": 217,
   "metadata": {},
   "outputs": [
    {
     "data": {
      "text/plain": [
       "2000"
      ]
     },
     "execution_count": 217,
     "metadata": {},
     "output_type": "execute_result"
    }
   ],
   "source": [
    "tf.data.experimental.cardinality(train_ds.batch(1,drop_remainder=True)).numpy()"
   ]
  },
  {
   "cell_type": "code",
   "execution_count": null,
   "metadata": {},
   "outputs": [],
   "source": []
  }
 ],
 "metadata": {
  "kernelspec": {
   "display_name": "Python 3",
   "language": "python",
   "name": "python3"
  },
  "language_info": {
   "codemirror_mode": {
    "name": "ipython",
    "version": 3
   },
   "file_extension": ".py",
   "mimetype": "text/x-python",
   "name": "python",
   "nbconvert_exporter": "python",
   "pygments_lexer": "ipython3",
   "version": "3.7.6"
  }
 },
 "nbformat": 4,
 "nbformat_minor": 2
}
